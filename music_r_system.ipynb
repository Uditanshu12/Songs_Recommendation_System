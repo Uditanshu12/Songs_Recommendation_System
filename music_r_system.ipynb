{
 "cells": [
  {
   "cell_type": "markdown",
   "metadata": {},
   "source": [
    "## Modelling "
   ]
  },
  {
   "cell_type": "code",
   "execution_count": 1,
   "metadata": {},
   "outputs": [],
   "source": [
    "# Importing required libraries.\n",
    "import pandas as pd\n",
    "from sklearn.metrics.pairwise import cosine_similarity"
   ]
  },
  {
   "cell_type": "code",
   "execution_count": 2,
   "metadata": {},
   "outputs": [],
   "source": [
    "# Reading the CSV file using Pandas.\n",
    "df_og = pd.read_csv(\"holly_bolly_10733_final.csv\")"
   ]
  },
  {
   "cell_type": "code",
   "execution_count": 3,
   "metadata": {},
   "outputs": [
    {
     "data": {
      "text/html": [
       "<div>\n",
       "<style scoped>\n",
       "    .dataframe tbody tr th:only-of-type {\n",
       "        vertical-align: middle;\n",
       "    }\n",
       "\n",
       "    .dataframe tbody tr th {\n",
       "        vertical-align: top;\n",
       "    }\n",
       "\n",
       "    .dataframe thead th {\n",
       "        text-align: right;\n",
       "    }\n",
       "</style>\n",
       "<table border=\"1\" class=\"dataframe\">\n",
       "  <thead>\n",
       "    <tr style=\"text-align: right;\">\n",
       "      <th></th>\n",
       "      <th>name</th>\n",
       "      <th>artist</th>\n",
       "      <th>id</th>\n",
       "      <th>danceability</th>\n",
       "      <th>key</th>\n",
       "      <th>mode</th>\n",
       "      <th>instrumentalness</th>\n",
       "      <th>duration</th>\n",
       "      <th>energy</th>\n",
       "      <th>loudness</th>\n",
       "      <th>speechiness</th>\n",
       "      <th>acousticness</th>\n",
       "      <th>tempo</th>\n",
       "      <th>liveness</th>\n",
       "      <th>valence</th>\n",
       "      <th>popularity</th>\n",
       "      <th>hollywood</th>\n",
       "    </tr>\n",
       "  </thead>\n",
       "  <tbody>\n",
       "    <tr>\n",
       "      <th>0</th>\n",
       "      <td>ishqkaminaa</td>\n",
       "      <td>djjiten</td>\n",
       "      <td>1YFTLSuSQ0odUosJIVTvOC</td>\n",
       "      <td>0.782</td>\n",
       "      <td>5</td>\n",
       "      <td>0</td>\n",
       "      <td>0.000013</td>\n",
       "      <td>1.907673</td>\n",
       "      <td>0.972</td>\n",
       "      <td>-7.542</td>\n",
       "      <td>0.1480</td>\n",
       "      <td>0.02550</td>\n",
       "      <td>0.608960</td>\n",
       "      <td>0.3690</td>\n",
       "      <td>0.557</td>\n",
       "      <td>0.000000</td>\n",
       "      <td>0</td>\n",
       "    </tr>\n",
       "    <tr>\n",
       "      <th>1</th>\n",
       "      <td>bhoolja</td>\n",
       "      <td>shaan</td>\n",
       "      <td>7pCE1BHlNVbvIuqUEOGAj5</td>\n",
       "      <td>0.696</td>\n",
       "      <td>0</td>\n",
       "      <td>0</td>\n",
       "      <td>0.000185</td>\n",
       "      <td>1.389656</td>\n",
       "      <td>0.888</td>\n",
       "      <td>-2.285</td>\n",
       "      <td>0.0336</td>\n",
       "      <td>0.05920</td>\n",
       "      <td>0.549908</td>\n",
       "      <td>0.1310</td>\n",
       "      <td>0.676</td>\n",
       "      <td>0.180905</td>\n",
       "      <td>0</td>\n",
       "    </tr>\n",
       "    <tr>\n",
       "      <th>2</th>\n",
       "      <td>tanhadil</td>\n",
       "      <td>shaan</td>\n",
       "      <td>4kO9vFarqUPNwlgFnVNgVh</td>\n",
       "      <td>0.621</td>\n",
       "      <td>7</td>\n",
       "      <td>0</td>\n",
       "      <td>0.000000</td>\n",
       "      <td>1.761857</td>\n",
       "      <td>0.704</td>\n",
       "      <td>-5.293</td>\n",
       "      <td>0.0236</td>\n",
       "      <td>0.10100</td>\n",
       "      <td>0.454296</td>\n",
       "      <td>0.1850</td>\n",
       "      <td>0.366</td>\n",
       "      <td>0.221106</td>\n",
       "      <td>0</td>\n",
       "    </tr>\n",
       "    <tr>\n",
       "      <th>3</th>\n",
       "      <td>sexymama</td>\n",
       "      <td>bombayrockers</td>\n",
       "      <td>5VG9YmTLrTuhOlhWYDdI8v</td>\n",
       "      <td>0.830</td>\n",
       "      <td>9</td>\n",
       "      <td>0</td>\n",
       "      <td>0.000001</td>\n",
       "      <td>1.402920</td>\n",
       "      <td>0.770</td>\n",
       "      <td>-4.135</td>\n",
       "      <td>0.1120</td>\n",
       "      <td>0.48300</td>\n",
       "      <td>0.454514</td>\n",
       "      <td>0.1270</td>\n",
       "      <td>0.927</td>\n",
       "      <td>0.135678</td>\n",
       "      <td>0</td>\n",
       "    </tr>\n",
       "    <tr>\n",
       "      <th>4</th>\n",
       "      <td>ariaripart1</td>\n",
       "      <td>bombayrockers</td>\n",
       "      <td>6dWQ9E5mFjQZA7ujh3wd2Z</td>\n",
       "      <td>0.758</td>\n",
       "      <td>7</td>\n",
       "      <td>1</td>\n",
       "      <td>0.000154</td>\n",
       "      <td>0.458445</td>\n",
       "      <td>0.918</td>\n",
       "      <td>-2.487</td>\n",
       "      <td>0.1080</td>\n",
       "      <td>0.00085</td>\n",
       "      <td>0.445791</td>\n",
       "      <td>0.0619</td>\n",
       "      <td>0.721</td>\n",
       "      <td>0.165829</td>\n",
       "      <td>0</td>\n",
       "    </tr>\n",
       "  </tbody>\n",
       "</table>\n",
       "</div>"
      ],
      "text/plain": [
       "          name         artist                      id  danceability  key  \\\n",
       "0  ishqkaminaa        djjiten  1YFTLSuSQ0odUosJIVTvOC         0.782    5   \n",
       "1      bhoolja          shaan  7pCE1BHlNVbvIuqUEOGAj5         0.696    0   \n",
       "2     tanhadil          shaan  4kO9vFarqUPNwlgFnVNgVh         0.621    7   \n",
       "3     sexymama  bombayrockers  5VG9YmTLrTuhOlhWYDdI8v         0.830    9   \n",
       "4  ariaripart1  bombayrockers  6dWQ9E5mFjQZA7ujh3wd2Z         0.758    7   \n",
       "\n",
       "   mode  instrumentalness  duration  energy  loudness  speechiness  \\\n",
       "0     0          0.000013  1.907673   0.972    -7.542       0.1480   \n",
       "1     0          0.000185  1.389656   0.888    -2.285       0.0336   \n",
       "2     0          0.000000  1.761857   0.704    -5.293       0.0236   \n",
       "3     0          0.000001  1.402920   0.770    -4.135       0.1120   \n",
       "4     1          0.000154  0.458445   0.918    -2.487       0.1080   \n",
       "\n",
       "   acousticness     tempo  liveness  valence  popularity  hollywood  \n",
       "0       0.02550  0.608960    0.3690    0.557    0.000000          0  \n",
       "1       0.05920  0.549908    0.1310    0.676    0.180905          0  \n",
       "2       0.10100  0.454296    0.1850    0.366    0.221106          0  \n",
       "3       0.48300  0.454514    0.1270    0.927    0.135678          0  \n",
       "4       0.00085  0.445791    0.0619    0.721    0.165829          0  "
      ]
     },
     "execution_count": 3,
     "metadata": {},
     "output_type": "execute_result"
    }
   ],
   "source": [
    "# Displaying the first 5 records to view the columns.\n",
    "df_og.head()"
   ]
  },
  {
   "cell_type": "code",
   "execution_count": 4,
   "metadata": {},
   "outputs": [],
   "source": [
    "# Dropping text values (we'll be using them in another approach).\n",
    "df = df_og.drop([\"name\",\"artist\",\"id\"],axis=1)"
   ]
  },
  {
   "cell_type": "code",
   "execution_count": 5,
   "metadata": {},
   "outputs": [],
   "source": [
    "# Converting the dataframe into numpy format for further processing.\n",
    "df_numpy = df.to_numpy()"
   ]
  },
  {
   "cell_type": "code",
   "execution_count": 6,
   "metadata": {},
   "outputs": [
    {
     "data": {
      "text/plain": [
       "(10733, 14)"
      ]
     },
     "execution_count": 6,
     "metadata": {},
     "output_type": "execute_result"
    }
   ],
   "source": [
    "df_numpy.shape"
   ]
  },
  {
   "cell_type": "code",
   "execution_count": 7,
   "metadata": {},
   "outputs": [],
   "source": [
    "# Finding the cosine distance of every record with every other record in the dataset.\n",
    "cosine_sim = cosine_similarity(df_numpy,df_numpy)"
   ]
  },
  {
   "cell_type": "code",
   "execution_count": 8,
   "metadata": {},
   "outputs": [
    {
     "data": {
      "text/plain": [
       "(10733, 10733)"
      ]
     },
     "execution_count": 8,
     "metadata": {},
     "output_type": "execute_result"
    }
   ],
   "source": [
    "# Printing the shape of the result\n",
    "cosine_sim.shape"
   ]
  },
  {
   "cell_type": "code",
   "execution_count": 9,
   "metadata": {},
   "outputs": [
    {
     "data": {
      "text/plain": [
       "name                              tanhadil\n",
       "artist                               shaan\n",
       "id                  4kO9vFarqUPNwlgFnVNgVh\n",
       "danceability                         0.621\n",
       "key                                      7\n",
       "mode                                     0\n",
       "instrumentalness                         0\n",
       "duration                           1.76186\n",
       "energy                               0.704\n",
       "loudness                            -5.293\n",
       "speechiness                         0.0236\n",
       "acousticness                         0.101\n",
       "tempo                             0.454296\n",
       "liveness                             0.185\n",
       "valence                              0.366\n",
       "popularity                        0.221106\n",
       "hollywood                                0\n",
       "Name: 2, dtype: object"
      ]
     },
     "execution_count": 9,
     "metadata": {},
     "output_type": "execute_result"
    }
   ],
   "source": [
    "# Viewing the third record from the original dataset. \n",
    "# This will be used as an input for getting recommendations.\n",
    "df_og.iloc[2]"
   ]
  },
  {
   "cell_type": "code",
   "execution_count": 10,
   "metadata": {},
   "outputs": [],
   "source": [
    "# Sorting the cosine distances of the input song with other songs in the ascending order. \n",
    "score_series = pd.Series(cosine_sim[2]).sort_values(ascending=False)"
   ]
  },
  {
   "cell_type": "code",
   "execution_count": 11,
   "metadata": {},
   "outputs": [],
   "source": [
    "# Selecting indices of 5 songs which are closest to the input song.\n",
    "top_5_indexes = list(score_series.iloc[1:6].index)"
   ]
  },
  {
   "cell_type": "code",
   "execution_count": 12,
   "metadata": {},
   "outputs": [
    {
     "data": {
      "text/plain": [
       "[113, 838, 277, 899, 600]"
      ]
     },
     "execution_count": 12,
     "metadata": {},
     "output_type": "execute_result"
    }
   ],
   "source": [
    "top_5_indexes"
   ]
  },
  {
   "cell_type": "code",
   "execution_count": 13,
   "metadata": {},
   "outputs": [],
   "source": [
    "# Deriving the names of the recommended songs from the original dataset.\n",
    "recommended_songs = []\n",
    "for i in top_5_indexes:\n",
    "        recommended_songs.append((list(df_og.name)[i],list(df_og.artist)[i]))"
   ]
  },
  {
   "cell_type": "code",
   "execution_count": 14,
   "metadata": {},
   "outputs": [
    {
     "data": {
      "text/plain": [
       "[('meredilmeinaajkyahaitheamorouslovermix', 'instantkarma'),\n",
       " ('tujunooniyatclimaxsong', 'shreysinghal'),\n",
       " ('basekpalremix', 'kk'),\n",
       " ('chorichoritakna', 'darkmc'),\n",
       " ('farak', 'divine')]"
      ]
     },
     "execution_count": 14,
     "metadata": {},
     "output_type": "execute_result"
    }
   ],
   "source": [
    "# Printing the recommended songs.\n",
    "recommended_songs"
   ]
  },
  {
   "cell_type": "code",
   "execution_count": 15,
   "metadata": {},
   "outputs": [],
   "source": [
    "indices = pd.Series(df_og['name'])"
   ]
  },
  {
   "cell_type": "code",
   "execution_count": 16,
   "metadata": {},
   "outputs": [],
   "source": [
    "def recommendations(title, cosine_sim = cosine_sim):\n",
    "    \n",
    "    recommended_movies = []\n",
    "    \n",
    "    # gettin the index of the movie that matches the title\n",
    "    idx = indices[indices == title].index[0]\n",
    "\n",
    "    # creating a Series with the similarity scores in descending order\n",
    "    score_series = pd.Series(cosine_sim[idx]).sort_values(ascending = False)\n",
    "\n",
    "    # getting the indexes of the 5 most similar movies\n",
    "    top_5_indexes = list(score_series.iloc[1:6].index)\n",
    "    \n",
    "    # populating the list with the titles of the best 5 matching movies\n",
    "    for i in top_5_indexes:\n",
    "        recommended_movies.append(((df_og.name)[i],(df_og.artist)[i]))\n",
    "        \n",
    "    return recommended_movies"
   ]
  },
  {
   "cell_type": "code",
   "execution_count": 17,
   "metadata": {},
   "outputs": [],
   "source": [
    "recommended_songs = recommendations(\"numb\")"
   ]
  },
  {
   "cell_type": "code",
   "execution_count": 18,
   "metadata": {},
   "outputs": [
    {
     "name": "stdout",
     "output_type": "stream",
     "text": [
      "1: Sleepingawake2006Remaster by Pod\n",
      "2: Aplaceformyhead by Linkinpark\n",
      "3: Dontbeshy by Thelibertines\n",
      "4: Papercut by Linkinpark\n",
      "5: Disposableteens by Marilynmanson\n"
     ]
    }
   ],
   "source": [
    "# Printing the recommendations\n",
    "for i,song in enumerate(recommended_songs):\n",
    "    print(\"{}: {} by {}\".format(i+1,song[0].title(),song[1].title()))"
   ]
  }
 ],
 "metadata": {
  "kernelspec": {
   "display_name": "Python 3",
   "language": "python",
   "name": "python3"
  },
  "language_info": {
   "codemirror_mode": {
    "name": "ipython",
    "version": 3
   },
   "file_extension": ".py",
   "mimetype": "text/x-python",
   "name": "python",
   "nbconvert_exporter": "python",
   "pygments_lexer": "ipython3",
   "version": "3.7.9"
  }
 },
 "nbformat": 4,
 "nbformat_minor": 4
}
