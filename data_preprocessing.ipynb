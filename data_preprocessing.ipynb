{
 "cells": [
  {
   "cell_type": "markdown",
   "metadata": {
    "id": "ClyfW4rYGhqd"
   },
   "source": [
    "# Libraries installing, import and drive mounting"
   ]
  },
  {
   "cell_type": "code",
   "execution_count": 375,
   "metadata": {
    "colab": {
     "base_uri": "https://localhost:8080/",
     "height": 70
    },
    "id": "jgmv3JGzUrqO",
    "outputId": "cb93c790-1149-48e7-885e-40a61363ff08"
   },
   "outputs": [],
   "source": [
    "import pandas as pd\n",
    "import numpy as np\n",
    "from scipy import stats\n",
    "import seaborn as sns\n",
    "import matplotlib.pyplot as plt\n",
    "%matplotlib inline\n",
    "import wordcloud\n",
    "from wordcloud import WordCloud, STOPWORDS"
   ]
  },
  {
   "cell_type": "markdown",
   "metadata": {
    "id": "9zJmUMX1eYIZ"
   },
   "source": [
    "# Holly_Bolly_Final Dataset"
   ]
  },
  {
   "cell_type": "code",
   "execution_count": 377,
   "metadata": {
    "id": "BqJXfXQWeb58"
   },
   "outputs": [],
   "source": [
    "df_1=pd.read_csv(\"final_dataset_1.csv\")"
   ]
  },
  {
   "cell_type": "code",
   "execution_count": 378,
   "metadata": {
    "id": "NB7ReLNee2yA"
   },
   "outputs": [],
   "source": [
    "df_2=pd.read_csv(\"final_dataset_2.csv\")"
   ]
  },
  {
   "cell_type": "code",
   "execution_count": 379,
   "metadata": {
    "id": "-gxwedIne_iv"
   },
   "outputs": [],
   "source": [
    "final_df=df_1.append(df_2)"
   ]
  },
  {
   "cell_type": "code",
   "execution_count": 380,
   "metadata": {
    "colab": {
     "base_uri": "https://localhost:8080/",
     "height": 212,
     "referenced_widgets": [
      "ad15fdc6c3084e6fb239d1d2d78c45a4",
      "dd418e5e77184891bdb56ccb4e95f179",
      "43b9423e926442a6bbdaf4b49f3c3c4c",
      "50fe56451a21401bbf59bf1603ea32e8",
      "6c13e78bc3834e4e83fc168c45edbc7c",
      "2c7fa58dd5dd4f8fbe56067d670573ce",
      "24694e28ba374893b2f8a10fa54179cb",
      "0b043146891e456da70a8dcfd8538c43",
      "51566d7c9fa8414da071e3477aa80770",
      "d44bba896b67451293cbca91c08d68e7",
      "acbadcbbcb274ba9b095c5e0ebc46564",
      "bee64ebda02b4515a2db761de26a15f5",
      "6bfac1cc23904a618ee1347cf2722238",
      "bfe34796869e4702aeea5be3f58f3160",
      "de21e9cf1e234204b06e841c92b34a92",
      "56f3cade59634a02bf61869fa73877b3",
      "2db0b7b80dec428d89dc7a793879730a",
      "cd903c9bc6cc4ccba95eb9cf5c38c7be",
      "123a84ed18ca4d1884a23d33b85ef07b",
      "9acbd8811ddb4f7194c420da4169ea17",
      "09dbe556923f45fbaa185c266748506c",
      "36e2ff4a974b40b2847cfeff8c044732",
      "c4b84887b7f94386a305b8583e937b59",
      "5494598f92824de6b955015ca2167aca",
      "da77db0a9bb34df08ebcec42d7fdab0c",
      "968d7d13fb0a47028e62f89820d133b6",
      "b4a26eba5821448a8c9627f863fc2df0",
      "61c91a266f74449f85660b95aa5081bc",
      "27bfbc6d541246a0a9b52f27b15a7f41",
      "958b2e069a834ac5a02615c510f4f4fd",
      "a8d7ecc58dcb4cb0a4016fc2201c96fb",
      "0e4ddf9130e2420cb5ef718abd2aa76d"
     ]
    },
    "id": "dIL9_is975A8",
    "outputId": "a8a9cc35-23d9-4090-fc0d-6e1eadad5f30"
   },
   "outputs": [],
   "source": [
    "#profiling report for final dataset (11K rows)\n",
    "\n",
    "#profile = ProfileReport(final_df, title='Final Dataset', explorative=True) # This profiling report is in Explorative mode\n",
    "#profile.to_file(output_file='FinalDataset_Profiling_Report.html')"
   ]
  },
  {
   "cell_type": "code",
   "execution_count": 381,
   "metadata": {
    "colab": {
     "base_uri": "https://localhost:8080/",
     "height": 282
    },
    "id": "ScW8c0JCfMEr",
    "outputId": "2825a4b9-5809-4ced-9f5a-62301b3deaa6"
   },
   "outputs": [
    {
     "data": {
      "text/html": [
       "<div>\n",
       "<style scoped>\n",
       "    .dataframe tbody tr th:only-of-type {\n",
       "        vertical-align: middle;\n",
       "    }\n",
       "\n",
       "    .dataframe tbody tr th {\n",
       "        vertical-align: top;\n",
       "    }\n",
       "\n",
       "    .dataframe thead th {\n",
       "        text-align: right;\n",
       "    }\n",
       "</style>\n",
       "<table border=\"1\" class=\"dataframe\">\n",
       "  <thead>\n",
       "    <tr style=\"text-align: right;\">\n",
       "      <th></th>\n",
       "      <th>name</th>\n",
       "      <th>artist</th>\n",
       "      <th>id</th>\n",
       "      <th>danceability</th>\n",
       "      <th>key</th>\n",
       "      <th>mode</th>\n",
       "      <th>instrumentalness</th>\n",
       "      <th>duration</th>\n",
       "      <th>time_signature</th>\n",
       "      <th>energy</th>\n",
       "      <th>loudness</th>\n",
       "      <th>speechiness</th>\n",
       "      <th>acousticness</th>\n",
       "      <th>tempo</th>\n",
       "      <th>liveness</th>\n",
       "      <th>valence</th>\n",
       "      <th>popularity</th>\n",
       "      <th>hollywood</th>\n",
       "    </tr>\n",
       "  </thead>\n",
       "  <tbody>\n",
       "    <tr>\n",
       "      <th>0</th>\n",
       "      <td>Ishq Kaminaa</td>\n",
       "      <td>DJ Jiten</td>\n",
       "      <td>1YFTLSuSQ0odUosJIVTvOC</td>\n",
       "      <td>0.782</td>\n",
       "      <td>5</td>\n",
       "      <td>0</td>\n",
       "      <td>0.000013</td>\n",
       "      <td>326839</td>\n",
       "      <td>4</td>\n",
       "      <td>0.972</td>\n",
       "      <td>-7.542</td>\n",
       "      <td>0.1480</td>\n",
       "      <td>0.02550</td>\n",
       "      <td>133.967</td>\n",
       "      <td>0.3690</td>\n",
       "      <td>0.557</td>\n",
       "      <td>0\\n</td>\n",
       "      <td>0</td>\n",
       "    </tr>\n",
       "    <tr>\n",
       "      <th>1</th>\n",
       "      <td>Bhool Ja</td>\n",
       "      <td>Shaan</td>\n",
       "      <td>7pCE1BHlNVbvIuqUEOGAj5</td>\n",
       "      <td>0.696</td>\n",
       "      <td>0</td>\n",
       "      <td>0</td>\n",
       "      <td>0.000185</td>\n",
       "      <td>214067</td>\n",
       "      <td>4</td>\n",
       "      <td>0.888</td>\n",
       "      <td>-2.285</td>\n",
       "      <td>0.0336</td>\n",
       "      <td>0.05920</td>\n",
       "      <td>120.976</td>\n",
       "      <td>0.1310</td>\n",
       "      <td>0.676</td>\n",
       "      <td>36\\n</td>\n",
       "      <td>0</td>\n",
       "    </tr>\n",
       "    <tr>\n",
       "      <th>2</th>\n",
       "      <td>Tanha Dil</td>\n",
       "      <td>Shaan</td>\n",
       "      <td>4kO9vFarqUPNwlgFnVNgVh</td>\n",
       "      <td>0.621</td>\n",
       "      <td>7</td>\n",
       "      <td>0</td>\n",
       "      <td>0.000000</td>\n",
       "      <td>291240</td>\n",
       "      <td>4</td>\n",
       "      <td>0.704</td>\n",
       "      <td>-5.293</td>\n",
       "      <td>0.0236</td>\n",
       "      <td>0.10100</td>\n",
       "      <td>99.942</td>\n",
       "      <td>0.1850</td>\n",
       "      <td>0.366</td>\n",
       "      <td>44\\n</td>\n",
       "      <td>0</td>\n",
       "    </tr>\n",
       "    <tr>\n",
       "      <th>3</th>\n",
       "      <td>Sexy Mama</td>\n",
       "      <td>Bombay Rockers</td>\n",
       "      <td>5VG9YmTLrTuhOlhWYDdI8v</td>\n",
       "      <td>0.830</td>\n",
       "      <td>9</td>\n",
       "      <td>0</td>\n",
       "      <td>0.000001</td>\n",
       "      <td>216453</td>\n",
       "      <td>4</td>\n",
       "      <td>0.770</td>\n",
       "      <td>-4.135</td>\n",
       "      <td>0.1120</td>\n",
       "      <td>0.48300</td>\n",
       "      <td>99.990</td>\n",
       "      <td>0.1270</td>\n",
       "      <td>0.927</td>\n",
       "      <td>27\\n</td>\n",
       "      <td>0</td>\n",
       "    </tr>\n",
       "    <tr>\n",
       "      <th>4</th>\n",
       "      <td>Ari Ari (Part 1)</td>\n",
       "      <td>Bombay Rockers</td>\n",
       "      <td>6dWQ9E5mFjQZA7ujh3wd2Z</td>\n",
       "      <td>0.758</td>\n",
       "      <td>7</td>\n",
       "      <td>1</td>\n",
       "      <td>0.000154</td>\n",
       "      <td>93760</td>\n",
       "      <td>4</td>\n",
       "      <td>0.918</td>\n",
       "      <td>-2.487</td>\n",
       "      <td>0.1080</td>\n",
       "      <td>0.00085</td>\n",
       "      <td>98.071</td>\n",
       "      <td>0.0619</td>\n",
       "      <td>0.721</td>\n",
       "      <td>33\\n</td>\n",
       "      <td>0</td>\n",
       "    </tr>\n",
       "  </tbody>\n",
       "</table>\n",
       "</div>"
      ],
      "text/plain": [
       "               name          artist                      id  danceability  \\\n",
       "0      Ishq Kaminaa        DJ Jiten  1YFTLSuSQ0odUosJIVTvOC         0.782   \n",
       "1          Bhool Ja           Shaan  7pCE1BHlNVbvIuqUEOGAj5         0.696   \n",
       "2         Tanha Dil           Shaan  4kO9vFarqUPNwlgFnVNgVh         0.621   \n",
       "3         Sexy Mama  Bombay Rockers  5VG9YmTLrTuhOlhWYDdI8v         0.830   \n",
       "4  Ari Ari (Part 1)  Bombay Rockers  6dWQ9E5mFjQZA7ujh3wd2Z         0.758   \n",
       "\n",
       "   key  mode  instrumentalness  duration  time_signature  energy  loudness  \\\n",
       "0    5     0          0.000013    326839               4   0.972    -7.542   \n",
       "1    0     0          0.000185    214067               4   0.888    -2.285   \n",
       "2    7     0          0.000000    291240               4   0.704    -5.293   \n",
       "3    9     0          0.000001    216453               4   0.770    -4.135   \n",
       "4    7     1          0.000154     93760               4   0.918    -2.487   \n",
       "\n",
       "   speechiness  acousticness    tempo  liveness  valence popularity  hollywood  \n",
       "0       0.1480       0.02550  133.967    0.3690    0.557        0\\n          0  \n",
       "1       0.0336       0.05920  120.976    0.1310    0.676       36\\n          0  \n",
       "2       0.0236       0.10100   99.942    0.1850    0.366       44\\n          0  \n",
       "3       0.1120       0.48300   99.990    0.1270    0.927       27\\n          0  \n",
       "4       0.1080       0.00085   98.071    0.0619    0.721       33\\n          0  "
      ]
     },
     "execution_count": 381,
     "metadata": {},
     "output_type": "execute_result"
    }
   ],
   "source": [
    "final_df.head()"
   ]
  },
  {
   "cell_type": "code",
   "execution_count": 382,
   "metadata": {
    "colab": {
     "base_uri": "https://localhost:8080/",
     "height": 299
    },
    "id": "BlR6Qa9gflv_",
    "outputId": "78fe6d05-2f1b-47e9-ce7a-ad78f9b5ea71"
   },
   "outputs": [
    {
     "data": {
      "text/html": [
       "<div>\n",
       "<style scoped>\n",
       "    .dataframe tbody tr th:only-of-type {\n",
       "        vertical-align: middle;\n",
       "    }\n",
       "\n",
       "    .dataframe tbody tr th {\n",
       "        vertical-align: top;\n",
       "    }\n",
       "\n",
       "    .dataframe thead th {\n",
       "        text-align: right;\n",
       "    }\n",
       "</style>\n",
       "<table border=\"1\" class=\"dataframe\">\n",
       "  <thead>\n",
       "    <tr style=\"text-align: right;\">\n",
       "      <th></th>\n",
       "      <th>name</th>\n",
       "      <th>artist</th>\n",
       "      <th>id</th>\n",
       "      <th>danceability</th>\n",
       "      <th>key</th>\n",
       "      <th>mode</th>\n",
       "      <th>instrumentalness</th>\n",
       "      <th>duration</th>\n",
       "      <th>time_signature</th>\n",
       "      <th>energy</th>\n",
       "      <th>loudness</th>\n",
       "      <th>speechiness</th>\n",
       "      <th>acousticness</th>\n",
       "      <th>tempo</th>\n",
       "      <th>liveness</th>\n",
       "      <th>valence</th>\n",
       "      <th>popularity</th>\n",
       "      <th>hollywood</th>\n",
       "    </tr>\n",
       "  </thead>\n",
       "  <tbody>\n",
       "    <tr>\n",
       "      <th>9980</th>\n",
       "      <td>Summer Skin</td>\n",
       "      <td>Death Cab for Cutie</td>\n",
       "      <td>5vFKQF10Jhyysg3JUbfBUd</td>\n",
       "      <td>0.615</td>\n",
       "      <td>2</td>\n",
       "      <td>0</td>\n",
       "      <td>0.033400</td>\n",
       "      <td>194227</td>\n",
       "      <td>4</td>\n",
       "      <td>0.476</td>\n",
       "      <td>-12.205</td>\n",
       "      <td>0.0337</td>\n",
       "      <td>0.161000</td>\n",
       "      <td>91.584</td>\n",
       "      <td>0.0946</td>\n",
       "      <td>0.6110</td>\n",
       "      <td>47\\n</td>\n",
       "      <td>1</td>\n",
       "    </tr>\n",
       "    <tr>\n",
       "      <th>9981</th>\n",
       "      <td>Take On Me</td>\n",
       "      <td>A1</td>\n",
       "      <td>6IVJFZI4fejlJ9XTa3CG5G</td>\n",
       "      <td>0.562</td>\n",
       "      <td>9</td>\n",
       "      <td>1</td>\n",
       "      <td>0.000002</td>\n",
       "      <td>212880</td>\n",
       "      <td>4</td>\n",
       "      <td>0.931</td>\n",
       "      <td>-4.809</td>\n",
       "      <td>0.0469</td>\n",
       "      <td>0.085900</td>\n",
       "      <td>165.081</td>\n",
       "      <td>0.2690</td>\n",
       "      <td>0.5370</td>\n",
       "      <td>48\\n</td>\n",
       "      <td>1</td>\n",
       "    </tr>\n",
       "    <tr>\n",
       "      <th>9982</th>\n",
       "      <td>Shiver</td>\n",
       "      <td>Maroon 5</td>\n",
       "      <td>0Yb0L5qlyMDyAZor9d57iS</td>\n",
       "      <td>0.620</td>\n",
       "      <td>0</td>\n",
       "      <td>1</td>\n",
       "      <td>0.000000</td>\n",
       "      <td>179773</td>\n",
       "      <td>4</td>\n",
       "      <td>0.919</td>\n",
       "      <td>-4.475</td>\n",
       "      <td>0.3570</td>\n",
       "      <td>0.039700</td>\n",
       "      <td>172.021</td>\n",
       "      <td>0.8510</td>\n",
       "      <td>0.5070</td>\n",
       "      <td>0\\n</td>\n",
       "      <td>1</td>\n",
       "    </tr>\n",
       "    <tr>\n",
       "      <th>9983</th>\n",
       "      <td>Matkustaja</td>\n",
       "      <td>Egotrippi</td>\n",
       "      <td>5esJb63Nbi1LeG0v4NyKTt</td>\n",
       "      <td>0.488</td>\n",
       "      <td>9</td>\n",
       "      <td>1</td>\n",
       "      <td>0.000000</td>\n",
       "      <td>241320</td>\n",
       "      <td>4</td>\n",
       "      <td>0.615</td>\n",
       "      <td>-4.377</td>\n",
       "      <td>0.0295</td>\n",
       "      <td>0.034000</td>\n",
       "      <td>130.050</td>\n",
       "      <td>0.2080</td>\n",
       "      <td>0.6860</td>\n",
       "      <td>51\\n</td>\n",
       "      <td>1</td>\n",
       "    </tr>\n",
       "    <tr>\n",
       "      <th>9984</th>\n",
       "      <td>Special Needs</td>\n",
       "      <td>Placebo</td>\n",
       "      <td>63Cg39cB5xAmjObaKPAd9z</td>\n",
       "      <td>0.300</td>\n",
       "      <td>10</td>\n",
       "      <td>0</td>\n",
       "      <td>0.811000</td>\n",
       "      <td>315987</td>\n",
       "      <td>4</td>\n",
       "      <td>0.564</td>\n",
       "      <td>-10.163</td>\n",
       "      <td>0.0341</td>\n",
       "      <td>0.000906</td>\n",
       "      <td>177.936</td>\n",
       "      <td>0.0924</td>\n",
       "      <td>0.0405</td>\n",
       "      <td>0\\n</td>\n",
       "      <td>1</td>\n",
       "    </tr>\n",
       "  </tbody>\n",
       "</table>\n",
       "</div>"
      ],
      "text/plain": [
       "               name               artist                      id  \\\n",
       "9980    Summer Skin  Death Cab for Cutie  5vFKQF10Jhyysg3JUbfBUd   \n",
       "9981     Take On Me                   A1  6IVJFZI4fejlJ9XTa3CG5G   \n",
       "9982         Shiver             Maroon 5  0Yb0L5qlyMDyAZor9d57iS   \n",
       "9983     Matkustaja            Egotrippi  5esJb63Nbi1LeG0v4NyKTt   \n",
       "9984  Special Needs              Placebo  63Cg39cB5xAmjObaKPAd9z   \n",
       "\n",
       "      danceability  key  mode  instrumentalness  duration  time_signature  \\\n",
       "9980         0.615    2     0          0.033400    194227               4   \n",
       "9981         0.562    9     1          0.000002    212880               4   \n",
       "9982         0.620    0     1          0.000000    179773               4   \n",
       "9983         0.488    9     1          0.000000    241320               4   \n",
       "9984         0.300   10     0          0.811000    315987               4   \n",
       "\n",
       "      energy  loudness  speechiness  acousticness    tempo  liveness  valence  \\\n",
       "9980   0.476   -12.205       0.0337      0.161000   91.584    0.0946   0.6110   \n",
       "9981   0.931    -4.809       0.0469      0.085900  165.081    0.2690   0.5370   \n",
       "9982   0.919    -4.475       0.3570      0.039700  172.021    0.8510   0.5070   \n",
       "9983   0.615    -4.377       0.0295      0.034000  130.050    0.2080   0.6860   \n",
       "9984   0.564   -10.163       0.0341      0.000906  177.936    0.0924   0.0405   \n",
       "\n",
       "     popularity  hollywood  \n",
       "9980       47\\n          1  \n",
       "9981       48\\n          1  \n",
       "9982        0\\n          1  \n",
       "9983       51\\n          1  \n",
       "9984        0\\n          1  "
      ]
     },
     "execution_count": 382,
     "metadata": {},
     "output_type": "execute_result"
    }
   ],
   "source": [
    "final_df.tail()"
   ]
  },
  {
   "cell_type": "code",
   "execution_count": 383,
   "metadata": {
    "colab": {
     "base_uri": "https://localhost:8080/",
     "height": 34
    },
    "id": "oX7SXf9Jgrfm",
    "outputId": "55512074-c2d9-406f-d0ad-a4d4f3cef992"
   },
   "outputs": [
    {
     "data": {
      "text/plain": [
       "(10979, 18)"
      ]
     },
     "execution_count": 383,
     "metadata": {},
     "output_type": "execute_result"
    }
   ],
   "source": [
    "final_df.shape"
   ]
  },
  {
   "cell_type": "code",
   "execution_count": 384,
   "metadata": {
    "id": "ClB6mo_rrtJa"
   },
   "outputs": [
    {
     "data": {
      "text/html": [
       "<div>\n",
       "<style scoped>\n",
       "    .dataframe tbody tr th:only-of-type {\n",
       "        vertical-align: middle;\n",
       "    }\n",
       "\n",
       "    .dataframe tbody tr th {\n",
       "        vertical-align: top;\n",
       "    }\n",
       "\n",
       "    .dataframe thead th {\n",
       "        text-align: right;\n",
       "    }\n",
       "</style>\n",
       "<table border=\"1\" class=\"dataframe\">\n",
       "  <thead>\n",
       "    <tr style=\"text-align: right;\">\n",
       "      <th></th>\n",
       "      <th>danceability</th>\n",
       "      <th>key</th>\n",
       "      <th>mode</th>\n",
       "      <th>instrumentalness</th>\n",
       "      <th>duration</th>\n",
       "      <th>time_signature</th>\n",
       "      <th>energy</th>\n",
       "      <th>loudness</th>\n",
       "      <th>speechiness</th>\n",
       "      <th>acousticness</th>\n",
       "      <th>tempo</th>\n",
       "      <th>liveness</th>\n",
       "      <th>valence</th>\n",
       "      <th>hollywood</th>\n",
       "    </tr>\n",
       "  </thead>\n",
       "  <tbody>\n",
       "    <tr>\n",
       "      <th>count</th>\n",
       "      <td>10979.000000</td>\n",
       "      <td>10979.000000</td>\n",
       "      <td>10979.000000</td>\n",
       "      <td>10979.000000</td>\n",
       "      <td>1.097900e+04</td>\n",
       "      <td>10979.000000</td>\n",
       "      <td>10979.000000</td>\n",
       "      <td>10979.000000</td>\n",
       "      <td>10979.000000</td>\n",
       "      <td>10979.000000</td>\n",
       "      <td>10979.000000</td>\n",
       "      <td>10979.000000</td>\n",
       "      <td>10979.000000</td>\n",
       "      <td>10979.000000</td>\n",
       "    </tr>\n",
       "    <tr>\n",
       "      <th>mean</th>\n",
       "      <td>0.528426</td>\n",
       "      <td>5.274888</td>\n",
       "      <td>0.647145</td>\n",
       "      <td>0.092455</td>\n",
       "      <td>2.489464e+05</td>\n",
       "      <td>3.926223</td>\n",
       "      <td>0.693297</td>\n",
       "      <td>-7.579857</td>\n",
       "      <td>0.064637</td>\n",
       "      <td>0.214386</td>\n",
       "      <td>123.520272</td>\n",
       "      <td>0.203957</td>\n",
       "      <td>0.493323</td>\n",
       "      <td>0.909464</td>\n",
       "    </tr>\n",
       "    <tr>\n",
       "      <th>std</th>\n",
       "      <td>0.161653</td>\n",
       "      <td>3.534289</td>\n",
       "      <td>0.477880</td>\n",
       "      <td>0.226128</td>\n",
       "      <td>8.146643e+04</td>\n",
       "      <td>0.329549</td>\n",
       "      <td>0.233969</td>\n",
       "      <td>3.733231</td>\n",
       "      <td>0.063672</td>\n",
       "      <td>0.282053</td>\n",
       "      <td>29.071842</td>\n",
       "      <td>0.178893</td>\n",
       "      <td>0.247315</td>\n",
       "      <td>0.286962</td>\n",
       "    </tr>\n",
       "    <tr>\n",
       "      <th>min</th>\n",
       "      <td>0.000000</td>\n",
       "      <td>0.000000</td>\n",
       "      <td>0.000000</td>\n",
       "      <td>0.000000</td>\n",
       "      <td>4.069000e+03</td>\n",
       "      <td>0.000000</td>\n",
       "      <td>0.000020</td>\n",
       "      <td>-34.486000</td>\n",
       "      <td>0.000000</td>\n",
       "      <td>0.000000</td>\n",
       "      <td>0.000000</td>\n",
       "      <td>0.000000</td>\n",
       "      <td>0.000000</td>\n",
       "      <td>0.000000</td>\n",
       "    </tr>\n",
       "    <tr>\n",
       "      <th>25%</th>\n",
       "      <td>0.418000</td>\n",
       "      <td>2.000000</td>\n",
       "      <td>0.000000</td>\n",
       "      <td>0.000001</td>\n",
       "      <td>2.022730e+05</td>\n",
       "      <td>4.000000</td>\n",
       "      <td>0.532500</td>\n",
       "      <td>-9.484000</td>\n",
       "      <td>0.032900</td>\n",
       "      <td>0.003880</td>\n",
       "      <td>100.632500</td>\n",
       "      <td>0.095700</td>\n",
       "      <td>0.294500</td>\n",
       "      <td>1.000000</td>\n",
       "    </tr>\n",
       "    <tr>\n",
       "      <th>50%</th>\n",
       "      <td>0.530000</td>\n",
       "      <td>5.000000</td>\n",
       "      <td>1.000000</td>\n",
       "      <td>0.000162</td>\n",
       "      <td>2.372270e+05</td>\n",
       "      <td>4.000000</td>\n",
       "      <td>0.742000</td>\n",
       "      <td>-6.729000</td>\n",
       "      <td>0.042800</td>\n",
       "      <td>0.064200</td>\n",
       "      <td>121.697000</td>\n",
       "      <td>0.132000</td>\n",
       "      <td>0.485000</td>\n",
       "      <td>1.000000</td>\n",
       "    </tr>\n",
       "    <tr>\n",
       "      <th>75%</th>\n",
       "      <td>0.641000</td>\n",
       "      <td>8.000000</td>\n",
       "      <td>1.000000</td>\n",
       "      <td>0.017000</td>\n",
       "      <td>2.795400e+05</td>\n",
       "      <td>4.000000</td>\n",
       "      <td>0.893000</td>\n",
       "      <td>-4.860500</td>\n",
       "      <td>0.069400</td>\n",
       "      <td>0.345000</td>\n",
       "      <td>141.969000</td>\n",
       "      <td>0.266000</td>\n",
       "      <td>0.692000</td>\n",
       "      <td>1.000000</td>\n",
       "    </tr>\n",
       "    <tr>\n",
       "      <th>max</th>\n",
       "      <td>0.978000</td>\n",
       "      <td>11.000000</td>\n",
       "      <td>1.000000</td>\n",
       "      <td>0.987000</td>\n",
       "      <td>1.694907e+06</td>\n",
       "      <td>5.000000</td>\n",
       "      <td>0.999000</td>\n",
       "      <td>1.275000</td>\n",
       "      <td>0.954000</td>\n",
       "      <td>0.996000</td>\n",
       "      <td>219.993000</td>\n",
       "      <td>0.998000</td>\n",
       "      <td>0.985000</td>\n",
       "      <td>1.000000</td>\n",
       "    </tr>\n",
       "  </tbody>\n",
       "</table>\n",
       "</div>"
      ],
      "text/plain": [
       "       danceability           key          mode  instrumentalness  \\\n",
       "count  10979.000000  10979.000000  10979.000000      10979.000000   \n",
       "mean       0.528426      5.274888      0.647145          0.092455   \n",
       "std        0.161653      3.534289      0.477880          0.226128   \n",
       "min        0.000000      0.000000      0.000000          0.000000   \n",
       "25%        0.418000      2.000000      0.000000          0.000001   \n",
       "50%        0.530000      5.000000      1.000000          0.000162   \n",
       "75%        0.641000      8.000000      1.000000          0.017000   \n",
       "max        0.978000     11.000000      1.000000          0.987000   \n",
       "\n",
       "           duration  time_signature        energy      loudness   speechiness  \\\n",
       "count  1.097900e+04    10979.000000  10979.000000  10979.000000  10979.000000   \n",
       "mean   2.489464e+05        3.926223      0.693297     -7.579857      0.064637   \n",
       "std    8.146643e+04        0.329549      0.233969      3.733231      0.063672   \n",
       "min    4.069000e+03        0.000000      0.000020    -34.486000      0.000000   \n",
       "25%    2.022730e+05        4.000000      0.532500     -9.484000      0.032900   \n",
       "50%    2.372270e+05        4.000000      0.742000     -6.729000      0.042800   \n",
       "75%    2.795400e+05        4.000000      0.893000     -4.860500      0.069400   \n",
       "max    1.694907e+06        5.000000      0.999000      1.275000      0.954000   \n",
       "\n",
       "       acousticness         tempo      liveness       valence     hollywood  \n",
       "count  10979.000000  10979.000000  10979.000000  10979.000000  10979.000000  \n",
       "mean       0.214386    123.520272      0.203957      0.493323      0.909464  \n",
       "std        0.282053     29.071842      0.178893      0.247315      0.286962  \n",
       "min        0.000000      0.000000      0.000000      0.000000      0.000000  \n",
       "25%        0.003880    100.632500      0.095700      0.294500      1.000000  \n",
       "50%        0.064200    121.697000      0.132000      0.485000      1.000000  \n",
       "75%        0.345000    141.969000      0.266000      0.692000      1.000000  \n",
       "max        0.996000    219.993000      0.998000      0.985000      1.000000  "
      ]
     },
     "execution_count": 384,
     "metadata": {},
     "output_type": "execute_result"
    }
   ],
   "source": [
    "final_df.describe()"
   ]
  },
  {
   "cell_type": "code",
   "execution_count": 385,
   "metadata": {
    "id": "ymGeDZGqr6yP"
   },
   "outputs": [
    {
     "name": "stdout",
     "output_type": "stream",
     "text": [
      "<class 'pandas.core.frame.DataFrame'>\n",
      "Int64Index: 10979 entries, 0 to 9984\n",
      "Data columns (total 18 columns):\n",
      " #   Column            Non-Null Count  Dtype  \n",
      "---  ------            --------------  -----  \n",
      " 0   name              10958 non-null  object \n",
      " 1   artist            10958 non-null  object \n",
      " 2   id                10979 non-null  object \n",
      " 3   danceability      10979 non-null  float64\n",
      " 4   key               10979 non-null  int64  \n",
      " 5   mode              10979 non-null  int64  \n",
      " 6   instrumentalness  10979 non-null  float64\n",
      " 7   duration          10979 non-null  int64  \n",
      " 8   time_signature    10979 non-null  int64  \n",
      " 9   energy            10979 non-null  float64\n",
      " 10  loudness          10979 non-null  float64\n",
      " 11  speechiness       10979 non-null  float64\n",
      " 12  acousticness      10979 non-null  float64\n",
      " 13  tempo             10979 non-null  float64\n",
      " 14  liveness          10979 non-null  float64\n",
      " 15  valence           10979 non-null  float64\n",
      " 16  popularity        10979 non-null  object \n",
      " 17  hollywood         10979 non-null  int64  \n",
      "dtypes: float64(9), int64(5), object(4)\n",
      "memory usage: 1.6+ MB\n"
     ]
    }
   ],
   "source": [
    "final_df.info()"
   ]
  },
  {
   "cell_type": "markdown",
   "metadata": {
    "id": "4J92-H8w5BKx"
   },
   "source": [
    "## Name and Artist"
   ]
  },
  {
   "cell_type": "code",
   "execution_count": 386,
   "metadata": {
    "id": "D22c6w4wSozj"
   },
   "outputs": [],
   "source": [
    "spec_chars = [\"!\",'\"',\"#\",\"%\",\"&\",\"'\",\"(\",\")\",\n",
    "              \"*\",\"+\",\",\",\"-\",\".\",\"/\",\":\",\";\",\"<\",\n",
    "              \"=\",\">\",\"?\",\"@\",\"[\",\"\\\\\",\"]\",\"^\",\"_\",\n",
    "              \"`\",\"{\",\"|\",\"}\",\"~\",\"–\",\" \"]\n",
    "for char in spec_chars:\n",
    "    final_df['name'] = final_df['name'].str.replace(char, '')"
   ]
  },
  {
   "cell_type": "code",
   "execution_count": 387,
   "metadata": {
    "id": "dfxTdSUQTnbg"
   },
   "outputs": [],
   "source": [
    "spec_chars = [\"!\",'\"',\"#\",\"%\",\"&\",\"'\",\"(\",\")\",\n",
    "              \"*\",\"+\",\",\",\"-\",\".\",\"/\",\":\",\";\",\"<\",\n",
    "              \"=\",\">\",\"?\",\"@\",\"[\",\"\\\\\",\"]\",\"^\",\"_\",\n",
    "              \"`\",\"{\",\"|\",\"}\",\"~\",\"–\",\" \"]\n",
    "for char in spec_chars:\n",
    "    final_df['artist'] = final_df['artist'].str.replace(char, '')"
   ]
  },
  {
   "cell_type": "code",
   "execution_count": 388,
   "metadata": {
    "id": "c4iHLJ--UqRi"
   },
   "outputs": [],
   "source": [
    "final_df[\"name\"] = final_df[\"name\"].str.lower()\n",
    "final_df[\"artist\"] = final_df[\"artist\"].str.lower()"
   ]
  },
  {
   "cell_type": "markdown",
   "metadata": {
    "id": "ebKRpJQK5Ujm"
   },
   "source": [
    "All the special characters and white spaces are gone. Only lower case characters are there."
   ]
  },
  {
   "cell_type": "code",
   "execution_count": 389,
   "metadata": {
    "colab": {
     "base_uri": "https://localhost:8080/",
     "height": 215
    },
    "id": "tLsxTU9lU7li",
    "outputId": "bc030165-4678-402c-fd0b-900f5fd0e2e1"
   },
   "outputs": [
    {
     "data": {
      "text/html": [
       "<div>\n",
       "<style scoped>\n",
       "    .dataframe tbody tr th:only-of-type {\n",
       "        vertical-align: middle;\n",
       "    }\n",
       "\n",
       "    .dataframe tbody tr th {\n",
       "        vertical-align: top;\n",
       "    }\n",
       "\n",
       "    .dataframe thead th {\n",
       "        text-align: right;\n",
       "    }\n",
       "</style>\n",
       "<table border=\"1\" class=\"dataframe\">\n",
       "  <thead>\n",
       "    <tr style=\"text-align: right;\">\n",
       "      <th></th>\n",
       "      <th>name</th>\n",
       "      <th>artist</th>\n",
       "      <th>id</th>\n",
       "      <th>danceability</th>\n",
       "      <th>key</th>\n",
       "      <th>mode</th>\n",
       "      <th>instrumentalness</th>\n",
       "      <th>duration</th>\n",
       "      <th>time_signature</th>\n",
       "      <th>energy</th>\n",
       "      <th>loudness</th>\n",
       "      <th>speechiness</th>\n",
       "      <th>acousticness</th>\n",
       "      <th>tempo</th>\n",
       "      <th>liveness</th>\n",
       "      <th>valence</th>\n",
       "      <th>popularity</th>\n",
       "      <th>hollywood</th>\n",
       "    </tr>\n",
       "  </thead>\n",
       "  <tbody>\n",
       "    <tr>\n",
       "      <th>0</th>\n",
       "      <td>ishqkaminaa</td>\n",
       "      <td>djjiten</td>\n",
       "      <td>1YFTLSuSQ0odUosJIVTvOC</td>\n",
       "      <td>0.782</td>\n",
       "      <td>5</td>\n",
       "      <td>0</td>\n",
       "      <td>0.000013</td>\n",
       "      <td>326839</td>\n",
       "      <td>4</td>\n",
       "      <td>0.972</td>\n",
       "      <td>-7.542</td>\n",
       "      <td>0.1480</td>\n",
       "      <td>0.02550</td>\n",
       "      <td>133.967</td>\n",
       "      <td>0.3690</td>\n",
       "      <td>0.557</td>\n",
       "      <td>0\\n</td>\n",
       "      <td>0</td>\n",
       "    </tr>\n",
       "    <tr>\n",
       "      <th>1</th>\n",
       "      <td>bhoolja</td>\n",
       "      <td>shaan</td>\n",
       "      <td>7pCE1BHlNVbvIuqUEOGAj5</td>\n",
       "      <td>0.696</td>\n",
       "      <td>0</td>\n",
       "      <td>0</td>\n",
       "      <td>0.000185</td>\n",
       "      <td>214067</td>\n",
       "      <td>4</td>\n",
       "      <td>0.888</td>\n",
       "      <td>-2.285</td>\n",
       "      <td>0.0336</td>\n",
       "      <td>0.05920</td>\n",
       "      <td>120.976</td>\n",
       "      <td>0.1310</td>\n",
       "      <td>0.676</td>\n",
       "      <td>36\\n</td>\n",
       "      <td>0</td>\n",
       "    </tr>\n",
       "    <tr>\n",
       "      <th>2</th>\n",
       "      <td>tanhadil</td>\n",
       "      <td>shaan</td>\n",
       "      <td>4kO9vFarqUPNwlgFnVNgVh</td>\n",
       "      <td>0.621</td>\n",
       "      <td>7</td>\n",
       "      <td>0</td>\n",
       "      <td>0.000000</td>\n",
       "      <td>291240</td>\n",
       "      <td>4</td>\n",
       "      <td>0.704</td>\n",
       "      <td>-5.293</td>\n",
       "      <td>0.0236</td>\n",
       "      <td>0.10100</td>\n",
       "      <td>99.942</td>\n",
       "      <td>0.1850</td>\n",
       "      <td>0.366</td>\n",
       "      <td>44\\n</td>\n",
       "      <td>0</td>\n",
       "    </tr>\n",
       "    <tr>\n",
       "      <th>3</th>\n",
       "      <td>sexymama</td>\n",
       "      <td>bombayrockers</td>\n",
       "      <td>5VG9YmTLrTuhOlhWYDdI8v</td>\n",
       "      <td>0.830</td>\n",
       "      <td>9</td>\n",
       "      <td>0</td>\n",
       "      <td>0.000001</td>\n",
       "      <td>216453</td>\n",
       "      <td>4</td>\n",
       "      <td>0.770</td>\n",
       "      <td>-4.135</td>\n",
       "      <td>0.1120</td>\n",
       "      <td>0.48300</td>\n",
       "      <td>99.990</td>\n",
       "      <td>0.1270</td>\n",
       "      <td>0.927</td>\n",
       "      <td>27\\n</td>\n",
       "      <td>0</td>\n",
       "    </tr>\n",
       "    <tr>\n",
       "      <th>4</th>\n",
       "      <td>ariaripart1</td>\n",
       "      <td>bombayrockers</td>\n",
       "      <td>6dWQ9E5mFjQZA7ujh3wd2Z</td>\n",
       "      <td>0.758</td>\n",
       "      <td>7</td>\n",
       "      <td>1</td>\n",
       "      <td>0.000154</td>\n",
       "      <td>93760</td>\n",
       "      <td>4</td>\n",
       "      <td>0.918</td>\n",
       "      <td>-2.487</td>\n",
       "      <td>0.1080</td>\n",
       "      <td>0.00085</td>\n",
       "      <td>98.071</td>\n",
       "      <td>0.0619</td>\n",
       "      <td>0.721</td>\n",
       "      <td>33\\n</td>\n",
       "      <td>0</td>\n",
       "    </tr>\n",
       "  </tbody>\n",
       "</table>\n",
       "</div>"
      ],
      "text/plain": [
       "          name         artist                      id  danceability  key  \\\n",
       "0  ishqkaminaa        djjiten  1YFTLSuSQ0odUosJIVTvOC         0.782    5   \n",
       "1      bhoolja          shaan  7pCE1BHlNVbvIuqUEOGAj5         0.696    0   \n",
       "2     tanhadil          shaan  4kO9vFarqUPNwlgFnVNgVh         0.621    7   \n",
       "3     sexymama  bombayrockers  5VG9YmTLrTuhOlhWYDdI8v         0.830    9   \n",
       "4  ariaripart1  bombayrockers  6dWQ9E5mFjQZA7ujh3wd2Z         0.758    7   \n",
       "\n",
       "   mode  instrumentalness  duration  time_signature  energy  loudness  \\\n",
       "0     0          0.000013    326839               4   0.972    -7.542   \n",
       "1     0          0.000185    214067               4   0.888    -2.285   \n",
       "2     0          0.000000    291240               4   0.704    -5.293   \n",
       "3     0          0.000001    216453               4   0.770    -4.135   \n",
       "4     1          0.000154     93760               4   0.918    -2.487   \n",
       "\n",
       "   speechiness  acousticness    tempo  liveness  valence popularity  hollywood  \n",
       "0       0.1480       0.02550  133.967    0.3690    0.557        0\\n          0  \n",
       "1       0.0336       0.05920  120.976    0.1310    0.676       36\\n          0  \n",
       "2       0.0236       0.10100   99.942    0.1850    0.366       44\\n          0  \n",
       "3       0.1120       0.48300   99.990    0.1270    0.927       27\\n          0  \n",
       "4       0.1080       0.00085   98.071    0.0619    0.721       33\\n          0  "
      ]
     },
     "execution_count": 389,
     "metadata": {},
     "output_type": "execute_result"
    }
   ],
   "source": [
    "final_df.head()"
   ]
  },
  {
   "cell_type": "markdown",
   "metadata": {
    "id": "OcHSk7Y250gE"
   },
   "source": [
    "## Danceability"
   ]
  },
  {
   "cell_type": "code",
   "execution_count": 390,
   "metadata": {
    "colab": {
     "base_uri": "https://localhost:8080/",
     "height": 313
    },
    "id": "x1VO76-n53Yz",
    "outputId": "b1889dcc-eeb8-48f8-8241-e63405a27e21"
   },
   "outputs": [
    {
     "name": "stdout",
     "output_type": "stream",
     "text": [
      "Mean value for danceability: 0.5284259495400314\n",
      "Skewness = -0.05071\n"
     ]
    },
    {
     "data": {
      "image/png": "[encoded data removed]",
      "text/plain": [
       "<Figure size 432x288 with 1 Axes>"
      ]
     },
     "metadata": {
      "needs_background": "light"
     },
     "output_type": "display_data"
    }
   ],
   "source": [
    "print(\"Mean value for danceability:\", final_df['danceability'].mean())\n",
    "print(\"Skewness =\", round((stats.skew(final_df['danceability'])), ndigits=5))\n",
    "sns.distplot(final_df['danceability'],color='red')\n",
    "plt.show()"
   ]
  },
  {
   "cell_type": "markdown",
   "metadata": {
    "id": "afnmhG9fRb1M"
   },
   "source": [
    "Skewness has a very small value. Looks like there is no need to transform this column."
   ]
  },
  {
   "cell_type": "markdown",
   "metadata": {
    "id": "X4JO0eWl_YRA"
   },
   "source": [
    "## Duration"
   ]
  },
  {
   "cell_type": "code",
   "execution_count": 391,
   "metadata": {},
   "outputs": [
    {
     "name": "stdout",
     "output_type": "stream",
     "text": [
      "Mean value for duration: 248946.42235176245\n",
      "Skewness = 3.06949\n"
     ]
    },
    {
     "data": {
      "image/png": "[encoded data removed]",
      "text/plain": [
       "<Figure size 432x288 with 1 Axes>"
      ]
     },
     "metadata": {
      "needs_background": "light"
     },
     "output_type": "display_data"
    }
   ],
   "source": [
    "print(\"Mean value for duration:\", final_df['duration'].mean())\n",
    "print(\"Skewness =\", round((stats.skew(final_df['duration'])), ndigits=5))\n",
    "sns.distplot(final_df['duration'],color='red')\n",
    "plt.show()"
   ]
  },
  {
   "cell_type": "code",
   "execution_count": 392,
   "metadata": {
    "id": "cLDI-VogPF7S"
   },
   "outputs": [],
   "source": [
    "final_df['duration'] = final_df['duration'].div(60000).round(2)"
   ]
  },
  {
   "cell_type": "code",
   "execution_count": 393,
   "metadata": {
    "colab": {
     "base_uri": "https://localhost:8080/",
     "height": 313
    },
    "id": "DuOzPY4yPY0z",
    "outputId": "a5561e75-3c84-4995-e0c4-3f94072d46e6"
   },
   "outputs": [
    {
     "name": "stdout",
     "output_type": "stream",
     "text": [
      "Mean value for transformed duration: 1.5229767499170972\n",
      "Skewness = 0.06381\n"
     ]
    },
    {
     "data": {
      "image/png": "[encoded data removed]",
      "text/plain": [
       "<Figure size 432x288 with 1 Axes>"
      ]
     },
     "metadata": {
      "needs_background": "light"
     },
     "output_type": "display_data"
    }
   ],
   "source": [
    "transform = np.asarray(final_df['duration'].values)\n",
    "    \n",
    "# transform values and store as \"dft\"\n",
    "dft = stats.boxcox(transform)[0]\n",
    "final_df['duration']=dft\n",
    "print(\"Mean value for transformed duration:\", final_df['duration'].mean())\n",
    "print(\"Skewness =\", round((stats.skew(final_df['duration'])), ndigits=5))\n",
    "\n",
    "# plot the transformed data\n",
    "sns.distplot(final_df['duration'],color='red')\n",
    "plt.show()"
   ]
  },
  {
   "cell_type": "markdown",
   "metadata": {
    "id": "RaHgOBRzRzSq"
   },
   "source": [
    "Milliseconds converted to minutes. Skewness reduced from 3.069 to 0.06381. Looks good to me."
   ]
  },
  {
   "cell_type": "markdown",
   "metadata": {
    "id": "mibNkFmrSn6c"
   },
   "source": [
    "## Time_signature"
   ]
  },
  {
   "cell_type": "code",
   "execution_count": 394,
   "metadata": {
    "id": "WsHkiWTjSq0c"
   },
   "outputs": [],
   "source": [
    "final_df = final_df.drop(['time_signature'], axis=1)"
   ]
  },
  {
   "cell_type": "code",
   "execution_count": 395,
   "metadata": {
    "colab": {
     "base_uri": "https://localhost:8080/",
     "height": 215
    },
    "id": "ZAKRy6gwTPmv",
    "outputId": "9cd915d7-a892-4c25-86de-8f9667e78129"
   },
   "outputs": [
    {
     "data": {
      "text/html": [
       "<div>\n",
       "<style scoped>\n",
       "    .dataframe tbody tr th:only-of-type {\n",
       "        vertical-align: middle;\n",
       "    }\n",
       "\n",
       "    .dataframe tbody tr th {\n",
       "        vertical-align: top;\n",
       "    }\n",
       "\n",
       "    .dataframe thead th {\n",
       "        text-align: right;\n",
       "    }\n",
       "</style>\n",
       "<table border=\"1\" class=\"dataframe\">\n",
       "  <thead>\n",
       "    <tr style=\"text-align: right;\">\n",
       "      <th></th>\n",
       "      <th>name</th>\n",
       "      <th>artist</th>\n",
       "      <th>id</th>\n",
       "      <th>danceability</th>\n",
       "      <th>key</th>\n",
       "      <th>mode</th>\n",
       "      <th>instrumentalness</th>\n",
       "      <th>duration</th>\n",
       "      <th>energy</th>\n",
       "      <th>loudness</th>\n",
       "      <th>speechiness</th>\n",
       "      <th>acousticness</th>\n",
       "      <th>tempo</th>\n",
       "      <th>liveness</th>\n",
       "      <th>valence</th>\n",
       "      <th>popularity</th>\n",
       "      <th>hollywood</th>\n",
       "    </tr>\n",
       "  </thead>\n",
       "  <tbody>\n",
       "    <tr>\n",
       "      <th>0</th>\n",
       "      <td>ishqkaminaa</td>\n",
       "      <td>djjiten</td>\n",
       "      <td>1YFTLSuSQ0odUosJIVTvOC</td>\n",
       "      <td>0.782</td>\n",
       "      <td>5</td>\n",
       "      <td>0</td>\n",
       "      <td>0.000013</td>\n",
       "      <td>1.907673</td>\n",
       "      <td>0.972</td>\n",
       "      <td>-7.542</td>\n",
       "      <td>0.1480</td>\n",
       "      <td>0.02550</td>\n",
       "      <td>133.967</td>\n",
       "      <td>0.3690</td>\n",
       "      <td>0.557</td>\n",
       "      <td>0\\n</td>\n",
       "      <td>0</td>\n",
       "    </tr>\n",
       "    <tr>\n",
       "      <th>1</th>\n",
       "      <td>bhoolja</td>\n",
       "      <td>shaan</td>\n",
       "      <td>7pCE1BHlNVbvIuqUEOGAj5</td>\n",
       "      <td>0.696</td>\n",
       "      <td>0</td>\n",
       "      <td>0</td>\n",
       "      <td>0.000185</td>\n",
       "      <td>1.389656</td>\n",
       "      <td>0.888</td>\n",
       "      <td>-2.285</td>\n",
       "      <td>0.0336</td>\n",
       "      <td>0.05920</td>\n",
       "      <td>120.976</td>\n",
       "      <td>0.1310</td>\n",
       "      <td>0.676</td>\n",
       "      <td>36\\n</td>\n",
       "      <td>0</td>\n",
       "    </tr>\n",
       "    <tr>\n",
       "      <th>2</th>\n",
       "      <td>tanhadil</td>\n",
       "      <td>shaan</td>\n",
       "      <td>4kO9vFarqUPNwlgFnVNgVh</td>\n",
       "      <td>0.621</td>\n",
       "      <td>7</td>\n",
       "      <td>0</td>\n",
       "      <td>0.000000</td>\n",
       "      <td>1.761857</td>\n",
       "      <td>0.704</td>\n",
       "      <td>-5.293</td>\n",
       "      <td>0.0236</td>\n",
       "      <td>0.10100</td>\n",
       "      <td>99.942</td>\n",
       "      <td>0.1850</td>\n",
       "      <td>0.366</td>\n",
       "      <td>44\\n</td>\n",
       "      <td>0</td>\n",
       "    </tr>\n",
       "    <tr>\n",
       "      <th>3</th>\n",
       "      <td>sexymama</td>\n",
       "      <td>bombayrockers</td>\n",
       "      <td>5VG9YmTLrTuhOlhWYDdI8v</td>\n",
       "      <td>0.830</td>\n",
       "      <td>9</td>\n",
       "      <td>0</td>\n",
       "      <td>0.000001</td>\n",
       "      <td>1.402920</td>\n",
       "      <td>0.770</td>\n",
       "      <td>-4.135</td>\n",
       "      <td>0.1120</td>\n",
       "      <td>0.48300</td>\n",
       "      <td>99.990</td>\n",
       "      <td>0.1270</td>\n",
       "      <td>0.927</td>\n",
       "      <td>27\\n</td>\n",
       "      <td>0</td>\n",
       "    </tr>\n",
       "    <tr>\n",
       "      <th>4</th>\n",
       "      <td>ariaripart1</td>\n",
       "      <td>bombayrockers</td>\n",
       "      <td>6dWQ9E5mFjQZA7ujh3wd2Z</td>\n",
       "      <td>0.758</td>\n",
       "      <td>7</td>\n",
       "      <td>1</td>\n",
       "      <td>0.000154</td>\n",
       "      <td>0.458445</td>\n",
       "      <td>0.918</td>\n",
       "      <td>-2.487</td>\n",
       "      <td>0.1080</td>\n",
       "      <td>0.00085</td>\n",
       "      <td>98.071</td>\n",
       "      <td>0.0619</td>\n",
       "      <td>0.721</td>\n",
       "      <td>33\\n</td>\n",
       "      <td>0</td>\n",
       "    </tr>\n",
       "  </tbody>\n",
       "</table>\n",
       "</div>"
      ],
      "text/plain": [
       "          name         artist                      id  danceability  key  \\\n",
       "0  ishqkaminaa        djjiten  1YFTLSuSQ0odUosJIVTvOC         0.782    5   \n",
       "1      bhoolja          shaan  7pCE1BHlNVbvIuqUEOGAj5         0.696    0   \n",
       "2     tanhadil          shaan  4kO9vFarqUPNwlgFnVNgVh         0.621    7   \n",
       "3     sexymama  bombayrockers  5VG9YmTLrTuhOlhWYDdI8v         0.830    9   \n",
       "4  ariaripart1  bombayrockers  6dWQ9E5mFjQZA7ujh3wd2Z         0.758    7   \n",
       "\n",
       "   mode  instrumentalness  duration  energy  loudness  speechiness  \\\n",
       "0     0          0.000013  1.907673   0.972    -7.542       0.1480   \n",
       "1     0          0.000185  1.389656   0.888    -2.285       0.0336   \n",
       "2     0          0.000000  1.761857   0.704    -5.293       0.0236   \n",
       "3     0          0.000001  1.402920   0.770    -4.135       0.1120   \n",
       "4     1          0.000154  0.458445   0.918    -2.487       0.1080   \n",
       "\n",
       "   acousticness    tempo  liveness  valence popularity  hollywood  \n",
       "0       0.02550  133.967    0.3690    0.557        0\\n          0  \n",
       "1       0.05920  120.976    0.1310    0.676       36\\n          0  \n",
       "2       0.10100   99.942    0.1850    0.366       44\\n          0  \n",
       "3       0.48300   99.990    0.1270    0.927       27\\n          0  \n",
       "4       0.00085   98.071    0.0619    0.721       33\\n          0  "
      ]
     },
     "execution_count": 395,
     "metadata": {},
     "output_type": "execute_result"
    }
   ],
   "source": [
    "final_df.head()"
   ]
  },
  {
   "cell_type": "markdown",
   "metadata": {
    "id": "Em7Zg4niTj1m"
   },
   "source": [
    "Dropped time_signature on the grounds of very unbalanced data distribution and we also don't know what does this column represent."
   ]
  },
  {
   "cell_type": "markdown",
   "metadata": {
    "id": "FYeU8R88UWCT"
   },
   "source": [
    "## Energy"
   ]
  },
  {
   "cell_type": "code",
   "execution_count": 396,
   "metadata": {
    "colab": {
     "base_uri": "https://localhost:8080/",
     "height": 313
    },
    "id": "mvjGTH6tUhQQ",
    "outputId": "1fb56eeb-82fe-4eb7-824e-7edc2d8a15f0"
   },
   "outputs": [
    {
     "name": "stdout",
     "output_type": "stream",
     "text": [
      "Mean value for energy: 0.6932973658621007\n",
      "Skewness = -0.72161\n"
     ]
    },
    {
     "data": {
      "image/png": "[encoded data removed]",
      "text/plain": [
       "<Figure size 432x288 with 1 Axes>"
      ]
     },
     "metadata": {
      "needs_background": "light"
     },
     "output_type": "display_data"
    }
   ],
   "source": [
    "print(\"Mean value for energy:\", final_df['energy'].mean())\n",
    "print(\"Skewness =\", round((stats.skew(final_df['energy'])), ndigits=5))\n",
    "sns.distplot(final_df['energy'],color='red')\n",
    "plt.show()"
   ]
  },
  {
   "cell_type": "code",
   "execution_count": 397,
   "metadata": {
    "colab": {
     "base_uri": "https://localhost:8080/",
     "height": 298
    },
    "id": "Bu7wOfTLU1Vx",
    "outputId": "65a19e7f-fe32-442c-e3bb-3d0be2c69deb"
   },
   "outputs": [
    {
     "name": "stdout",
     "output_type": "stream",
     "text": [
      "Mean value for transformed energy: -0.2580749387459421\n",
      "Skewness = -0.3586\n"
     ]
    },
    {
     "data": {
      "image/png": "[encoded data removed]",
      "text/plain": [
       "<Figure size 432x288 with 1 Axes>"
      ]
     },
     "metadata": {
      "needs_background": "light"
     },
     "output_type": "display_data"
    }
   ],
   "source": [
    "transform = np.asarray(final_df['energy'].values)\n",
    "    \n",
    "# transform values and store as \"dft\"\n",
    "dft = stats.boxcox(transform)[0]\n",
    "# final_df['duration']=dft\n",
    "# print(\"Mean value for transformed duration:\", final_df['duration'].mean())\n",
    "# print(\"Skewness =\", round((stats.skew(final_df['duration'])), ndigits=5))\n",
    "\n",
    "# # plot the transformed data\n",
    "# sns.distplot(final_df['duration'])\n",
    "# plt.show()\n",
    "\n",
    "print(\"Mean value for transformed energy:\", dft.mean())\n",
    "print(\"Skewness =\", round((stats.skew(dft)), ndigits=5))\n",
    "\n",
    "# plot the transformed data\n",
    "sns.distplot(dft,color='red')\n",
    "plt.show()"
   ]
  },
  {
   "cell_type": "markdown",
   "metadata": {
    "id": "uSeu2UCkVcgE"
   },
   "source": [
    "Box Cox does seem to work very well here (Skewness goes from -0.72161 to -0.3586). So I didn't modify the values of the column in the dataframe."
   ]
  },
  {
   "cell_type": "markdown",
   "metadata": {
    "id": "Crt4ULNyXu47"
   },
   "source": [
    "## Loudness"
   ]
  },
  {
   "cell_type": "markdown",
   "metadata": {
    "id": "Gciv2L0fX5GB"
   },
   "source": [
    "All the values in this column are negative that's why Box Cox didn't work. Need to do something else."
   ]
  },
  {
   "cell_type": "markdown",
   "metadata": {
    "id": "UbySezY8YGNk"
   },
   "source": [
    "## Tempo"
   ]
  },
  {
   "cell_type": "code",
   "execution_count": 398,
   "metadata": {
    "colab": {
     "base_uri": "https://localhost:8080/",
     "height": 313
    },
    "id": "-ixDw3wKabRL",
    "outputId": "0811dc3c-9e6c-41fa-ddc1-9c8865821bdf"
   },
   "outputs": [
    {
     "name": "stdout",
     "output_type": "stream",
     "text": [
      "Mean value for tempo: 123.5202721559344\n",
      "Skewness = 0.38508\n"
     ]
    },
    {
     "data": {
      "image/png": "[encoded data removed]",
      "text/plain": [
       "<Figure size 432x288 with 1 Axes>"
      ]
     },
     "metadata": {
      "needs_background": "light"
     },
     "output_type": "display_data"
    }
   ],
   "source": [
    "print(\"Mean value for tempo:\", final_df['tempo'].mean())\n",
    "print(\"Skewness =\", round((stats.skew(final_df['tempo'])), ndigits=5))\n",
    "sns.distplot(final_df['tempo'],color='red')\n",
    "plt.show()"
   ]
  },
  {
   "cell_type": "code",
   "execution_count": 399,
   "metadata": {
    "id": "PoelJcN8Yq39"
   },
   "outputs": [],
   "source": [
    "def normalize(column):\n",
    "    upper = column.max()\n",
    "    lower = column.min()\n",
    "    y = (column - lower)/(upper-lower)\n",
    "    return y\n",
    "final_df.tempo = normalize(final_df.tempo)"
   ]
  },
  {
   "cell_type": "code",
   "execution_count": 400,
   "metadata": {
    "colab": {
     "base_uri": "https://localhost:8080/",
     "height": 313
    },
    "id": "EzT0lgbOZi4Q",
    "outputId": "0e1bfc37-5764-4b17-b74d-7f860d9a3905"
   },
   "outputs": [
    {
     "name": "stdout",
     "output_type": "stream",
     "text": [
      "Mean value for tempo: 0.5614736475975803\n",
      "Skewness = 0.38508\n"
     ]
    },
    {
     "data": {
      "image/png": "[encoded data removed]",
      "text/plain": [
       "<Figure size 432x288 with 1 Axes>"
      ]
     },
     "metadata": {
      "needs_background": "light"
     },
     "output_type": "display_data"
    }
   ],
   "source": [
    "print(\"Mean value for tempo:\", final_df['tempo'].mean())\n",
    "print(\"Skewness =\", round((stats.skew(final_df['tempo'])), ndigits=5))\n",
    "sns.distplot(final_df['tempo'],color='red')\n",
    "plt.show()"
   ]
  },
  {
   "cell_type": "markdown",
   "metadata": {
    "id": "OwoSmQLubz4j"
   },
   "source": [
    "Tempo is now normalized and all the values are in the range 0 to 1."
   ]
  },
  {
   "cell_type": "markdown",
   "metadata": {
    "id": "tQAhUF3tx7Mt"
   },
   "source": [
    "## Popularity"
   ]
  },
  {
   "cell_type": "markdown",
   "metadata": {
    "id": "WSsK7TqN5jjz"
   },
   "source": [
    "Removing newline character from the popularity value."
   ]
  },
  {
   "cell_type": "code",
   "execution_count": 401,
   "metadata": {
    "id": "I-X2t-lmx9if"
   },
   "outputs": [],
   "source": [
    "final_df['popularity']=final_df['popularity'].str[ : -1]"
   ]
  },
  {
   "cell_type": "code",
   "execution_count": 402,
   "metadata": {
    "colab": {
     "base_uri": "https://localhost:8080/",
     "height": 215
    },
    "id": "zdICy-9hy7um",
    "outputId": "dd01935a-7584-4667-acc0-9618c799f4d9"
   },
   "outputs": [
    {
     "data": {
      "text/html": [
       "<div>\n",
       "<style scoped>\n",
       "    .dataframe tbody tr th:only-of-type {\n",
       "        vertical-align: middle;\n",
       "    }\n",
       "\n",
       "    .dataframe tbody tr th {\n",
       "        vertical-align: top;\n",
       "    }\n",
       "\n",
       "    .dataframe thead th {\n",
       "        text-align: right;\n",
       "    }\n",
       "</style>\n",
       "<table border=\"1\" class=\"dataframe\">\n",
       "  <thead>\n",
       "    <tr style=\"text-align: right;\">\n",
       "      <th></th>\n",
       "      <th>name</th>\n",
       "      <th>artist</th>\n",
       "      <th>id</th>\n",
       "      <th>danceability</th>\n",
       "      <th>key</th>\n",
       "      <th>mode</th>\n",
       "      <th>instrumentalness</th>\n",
       "      <th>duration</th>\n",
       "      <th>energy</th>\n",
       "      <th>loudness</th>\n",
       "      <th>speechiness</th>\n",
       "      <th>acousticness</th>\n",
       "      <th>tempo</th>\n",
       "      <th>liveness</th>\n",
       "      <th>valence</th>\n",
       "      <th>popularity</th>\n",
       "      <th>hollywood</th>\n",
       "    </tr>\n",
       "  </thead>\n",
       "  <tbody>\n",
       "    <tr>\n",
       "      <th>0</th>\n",
       "      <td>ishqkaminaa</td>\n",
       "      <td>djjiten</td>\n",
       "      <td>1YFTLSuSQ0odUosJIVTvOC</td>\n",
       "      <td>0.782</td>\n",
       "      <td>5</td>\n",
       "      <td>0</td>\n",
       "      <td>0.000013</td>\n",
       "      <td>1.907673</td>\n",
       "      <td>0.972</td>\n",
       "      <td>-7.542</td>\n",
       "      <td>0.1480</td>\n",
       "      <td>0.02550</td>\n",
       "      <td>0.608960</td>\n",
       "      <td>0.3690</td>\n",
       "      <td>0.557</td>\n",
       "      <td>0</td>\n",
       "      <td>0</td>\n",
       "    </tr>\n",
       "    <tr>\n",
       "      <th>1</th>\n",
       "      <td>bhoolja</td>\n",
       "      <td>shaan</td>\n",
       "      <td>7pCE1BHlNVbvIuqUEOGAj5</td>\n",
       "      <td>0.696</td>\n",
       "      <td>0</td>\n",
       "      <td>0</td>\n",
       "      <td>0.000185</td>\n",
       "      <td>1.389656</td>\n",
       "      <td>0.888</td>\n",
       "      <td>-2.285</td>\n",
       "      <td>0.0336</td>\n",
       "      <td>0.05920</td>\n",
       "      <td>0.549908</td>\n",
       "      <td>0.1310</td>\n",
       "      <td>0.676</td>\n",
       "      <td>36</td>\n",
       "      <td>0</td>\n",
       "    </tr>\n",
       "    <tr>\n",
       "      <th>2</th>\n",
       "      <td>tanhadil</td>\n",
       "      <td>shaan</td>\n",
       "      <td>4kO9vFarqUPNwlgFnVNgVh</td>\n",
       "      <td>0.621</td>\n",
       "      <td>7</td>\n",
       "      <td>0</td>\n",
       "      <td>0.000000</td>\n",
       "      <td>1.761857</td>\n",
       "      <td>0.704</td>\n",
       "      <td>-5.293</td>\n",
       "      <td>0.0236</td>\n",
       "      <td>0.10100</td>\n",
       "      <td>0.454296</td>\n",
       "      <td>0.1850</td>\n",
       "      <td>0.366</td>\n",
       "      <td>44</td>\n",
       "      <td>0</td>\n",
       "    </tr>\n",
       "    <tr>\n",
       "      <th>3</th>\n",
       "      <td>sexymama</td>\n",
       "      <td>bombayrockers</td>\n",
       "      <td>5VG9YmTLrTuhOlhWYDdI8v</td>\n",
       "      <td>0.830</td>\n",
       "      <td>9</td>\n",
       "      <td>0</td>\n",
       "      <td>0.000001</td>\n",
       "      <td>1.402920</td>\n",
       "      <td>0.770</td>\n",
       "      <td>-4.135</td>\n",
       "      <td>0.1120</td>\n",
       "      <td>0.48300</td>\n",
       "      <td>0.454514</td>\n",
       "      <td>0.1270</td>\n",
       "      <td>0.927</td>\n",
       "      <td>27</td>\n",
       "      <td>0</td>\n",
       "    </tr>\n",
       "    <tr>\n",
       "      <th>4</th>\n",
       "      <td>ariaripart1</td>\n",
       "      <td>bombayrockers</td>\n",
       "      <td>6dWQ9E5mFjQZA7ujh3wd2Z</td>\n",
       "      <td>0.758</td>\n",
       "      <td>7</td>\n",
       "      <td>1</td>\n",
       "      <td>0.000154</td>\n",
       "      <td>0.458445</td>\n",
       "      <td>0.918</td>\n",
       "      <td>-2.487</td>\n",
       "      <td>0.1080</td>\n",
       "      <td>0.00085</td>\n",
       "      <td>0.445791</td>\n",
       "      <td>0.0619</td>\n",
       "      <td>0.721</td>\n",
       "      <td>33</td>\n",
       "      <td>0</td>\n",
       "    </tr>\n",
       "  </tbody>\n",
       "</table>\n",
       "</div>"
      ],
      "text/plain": [
       "          name         artist                      id  danceability  key  \\\n",
       "0  ishqkaminaa        djjiten  1YFTLSuSQ0odUosJIVTvOC         0.782    5   \n",
       "1      bhoolja          shaan  7pCE1BHlNVbvIuqUEOGAj5         0.696    0   \n",
       "2     tanhadil          shaan  4kO9vFarqUPNwlgFnVNgVh         0.621    7   \n",
       "3     sexymama  bombayrockers  5VG9YmTLrTuhOlhWYDdI8v         0.830    9   \n",
       "4  ariaripart1  bombayrockers  6dWQ9E5mFjQZA7ujh3wd2Z         0.758    7   \n",
       "\n",
       "   mode  instrumentalness  duration  energy  loudness  speechiness  \\\n",
       "0     0          0.000013  1.907673   0.972    -7.542       0.1480   \n",
       "1     0          0.000185  1.389656   0.888    -2.285       0.0336   \n",
       "2     0          0.000000  1.761857   0.704    -5.293       0.0236   \n",
       "3     0          0.000001  1.402920   0.770    -4.135       0.1120   \n",
       "4     1          0.000154  0.458445   0.918    -2.487       0.1080   \n",
       "\n",
       "   acousticness     tempo  liveness  valence popularity  hollywood  \n",
       "0       0.02550  0.608960    0.3690    0.557          0          0  \n",
       "1       0.05920  0.549908    0.1310    0.676         36          0  \n",
       "2       0.10100  0.454296    0.1850    0.366         44          0  \n",
       "3       0.48300  0.454514    0.1270    0.927         27          0  \n",
       "4       0.00085  0.445791    0.0619    0.721         33          0  "
      ]
     },
     "execution_count": 402,
     "metadata": {},
     "output_type": "execute_result"
    }
   ],
   "source": [
    "final_df.head()"
   ]
  },
  {
   "cell_type": "code",
   "execution_count": 403,
   "metadata": {
    "colab": {
     "base_uri": "https://localhost:8080/",
     "height": 34
    },
    "id": "NZ22DNw-0Q4Q",
    "outputId": "8cde4947-a310-4d25-900e-7c9ad58d1f60"
   },
   "outputs": [
    {
     "name": "stdout",
     "output_type": "stream",
     "text": [
      "10754\n"
     ]
    }
   ],
   "source": [
    "print(len(final_df[(final_df['popularity'].str.isnumeric())]))"
   ]
  },
  {
   "cell_type": "markdown",
   "metadata": {
    "id": "QAlhutI954JN"
   },
   "source": [
    "Dropping the rows which have non-numeric values for popularity column. Number of such bad rows is 2.049 %."
   ]
  },
  {
   "cell_type": "code",
   "execution_count": 404,
   "metadata": {
    "id": "irY0-yEK3rCG"
   },
   "outputs": [],
   "source": [
    "final_df=final_df[final_df['popularity'].str.isnumeric()]"
   ]
  },
  {
   "cell_type": "markdown",
   "metadata": {
    "id": "OEFa3P1A-rO1"
   },
   "source": [
    "## This is what final dataset looks like now."
   ]
  },
  {
   "cell_type": "code",
   "execution_count": 405,
   "metadata": {
    "colab": {
     "base_uri": "https://localhost:8080/",
     "height": 34
    },
    "id": "7ibjvfJr3_W9",
    "outputId": "55f0c603-8868-4b12-a2ae-8f7720e7a8ab"
   },
   "outputs": [
    {
     "data": {
      "text/plain": [
       "(10754, 17)"
      ]
     },
     "execution_count": 405,
     "metadata": {},
     "output_type": "execute_result"
    }
   ],
   "source": [
    "final_df.shape"
   ]
  },
  {
   "cell_type": "code",
   "execution_count": 406,
   "metadata": {
    "id": "xO_dZS3a48xE"
   },
   "outputs": [],
   "source": [
    "final_df['popularity'] = final_df['popularity'].astype(int)"
   ]
  },
  {
   "cell_type": "code",
   "execution_count": 407,
   "metadata": {
    "colab": {
     "base_uri": "https://localhost:8080/",
     "height": 420
    },
    "id": "rps-kxVh5QYI",
    "outputId": "8425bd5b-4ded-40cd-c1d4-384c9d36cf62"
   },
   "outputs": [
    {
     "name": "stdout",
     "output_type": "stream",
     "text": [
      "<class 'pandas.core.frame.DataFrame'>\n",
      "Int64Index: 10754 entries, 0 to 9984\n",
      "Data columns (total 17 columns):\n",
      " #   Column            Non-Null Count  Dtype  \n",
      "---  ------            --------------  -----  \n",
      " 0   name              10733 non-null  object \n",
      " 1   artist            10733 non-null  object \n",
      " 2   id                10754 non-null  object \n",
      " 3   danceability      10754 non-null  float64\n",
      " 4   key               10754 non-null  int64  \n",
      " 5   mode              10754 non-null  int64  \n",
      " 6   instrumentalness  10754 non-null  float64\n",
      " 7   duration          10754 non-null  float64\n",
      " 8   energy            10754 non-null  float64\n",
      " 9   loudness          10754 non-null  float64\n",
      " 10  speechiness       10754 non-null  float64\n",
      " 11  acousticness      10754 non-null  float64\n",
      " 12  tempo             10754 non-null  float64\n",
      " 13  liveness          10754 non-null  float64\n",
      " 14  valence           10754 non-null  float64\n",
      " 15  popularity        10754 non-null  int32  \n",
      " 16  hollywood         10754 non-null  int64  \n",
      "dtypes: float64(10), int32(1), int64(3), object(3)\n",
      "memory usage: 1.4+ MB\n"
     ]
    }
   ],
   "source": [
    "final_df.info()"
   ]
  },
  {
   "cell_type": "code",
   "execution_count": 408,
   "metadata": {
    "colab": {
     "base_uri": "https://localhost:8080/",
     "height": 215
    },
    "id": "84pVCRiS7EGF",
    "outputId": "f9f3a2b6-d4a3-49b2-a5d7-48456bcbe631"
   },
   "outputs": [
    {
     "data": {
      "text/html": [
       "<div>\n",
       "<style scoped>\n",
       "    .dataframe tbody tr th:only-of-type {\n",
       "        vertical-align: middle;\n",
       "    }\n",
       "\n",
       "    .dataframe tbody tr th {\n",
       "        vertical-align: top;\n",
       "    }\n",
       "\n",
       "    .dataframe thead th {\n",
       "        text-align: right;\n",
       "    }\n",
       "</style>\n",
       "<table border=\"1\" class=\"dataframe\">\n",
       "  <thead>\n",
       "    <tr style=\"text-align: right;\">\n",
       "      <th></th>\n",
       "      <th>name</th>\n",
       "      <th>artist</th>\n",
       "      <th>id</th>\n",
       "      <th>danceability</th>\n",
       "      <th>key</th>\n",
       "      <th>mode</th>\n",
       "      <th>instrumentalness</th>\n",
       "      <th>duration</th>\n",
       "      <th>energy</th>\n",
       "      <th>loudness</th>\n",
       "      <th>speechiness</th>\n",
       "      <th>acousticness</th>\n",
       "      <th>tempo</th>\n",
       "      <th>liveness</th>\n",
       "      <th>valence</th>\n",
       "      <th>popularity</th>\n",
       "      <th>hollywood</th>\n",
       "    </tr>\n",
       "  </thead>\n",
       "  <tbody>\n",
       "    <tr>\n",
       "      <th>0</th>\n",
       "      <td>ishqkaminaa</td>\n",
       "      <td>djjiten</td>\n",
       "      <td>1YFTLSuSQ0odUosJIVTvOC</td>\n",
       "      <td>0.782</td>\n",
       "      <td>5</td>\n",
       "      <td>0</td>\n",
       "      <td>0.000013</td>\n",
       "      <td>1.907673</td>\n",
       "      <td>0.972</td>\n",
       "      <td>-7.542</td>\n",
       "      <td>0.1480</td>\n",
       "      <td>0.02550</td>\n",
       "      <td>0.608960</td>\n",
       "      <td>0.3690</td>\n",
       "      <td>0.557</td>\n",
       "      <td>0</td>\n",
       "      <td>0</td>\n",
       "    </tr>\n",
       "    <tr>\n",
       "      <th>1</th>\n",
       "      <td>bhoolja</td>\n",
       "      <td>shaan</td>\n",
       "      <td>7pCE1BHlNVbvIuqUEOGAj5</td>\n",
       "      <td>0.696</td>\n",
       "      <td>0</td>\n",
       "      <td>0</td>\n",
       "      <td>0.000185</td>\n",
       "      <td>1.389656</td>\n",
       "      <td>0.888</td>\n",
       "      <td>-2.285</td>\n",
       "      <td>0.0336</td>\n",
       "      <td>0.05920</td>\n",
       "      <td>0.549908</td>\n",
       "      <td>0.1310</td>\n",
       "      <td>0.676</td>\n",
       "      <td>36</td>\n",
       "      <td>0</td>\n",
       "    </tr>\n",
       "    <tr>\n",
       "      <th>2</th>\n",
       "      <td>tanhadil</td>\n",
       "      <td>shaan</td>\n",
       "      <td>4kO9vFarqUPNwlgFnVNgVh</td>\n",
       "      <td>0.621</td>\n",
       "      <td>7</td>\n",
       "      <td>0</td>\n",
       "      <td>0.000000</td>\n",
       "      <td>1.761857</td>\n",
       "      <td>0.704</td>\n",
       "      <td>-5.293</td>\n",
       "      <td>0.0236</td>\n",
       "      <td>0.10100</td>\n",
       "      <td>0.454296</td>\n",
       "      <td>0.1850</td>\n",
       "      <td>0.366</td>\n",
       "      <td>44</td>\n",
       "      <td>0</td>\n",
       "    </tr>\n",
       "    <tr>\n",
       "      <th>3</th>\n",
       "      <td>sexymama</td>\n",
       "      <td>bombayrockers</td>\n",
       "      <td>5VG9YmTLrTuhOlhWYDdI8v</td>\n",
       "      <td>0.830</td>\n",
       "      <td>9</td>\n",
       "      <td>0</td>\n",
       "      <td>0.000001</td>\n",
       "      <td>1.402920</td>\n",
       "      <td>0.770</td>\n",
       "      <td>-4.135</td>\n",
       "      <td>0.1120</td>\n",
       "      <td>0.48300</td>\n",
       "      <td>0.454514</td>\n",
       "      <td>0.1270</td>\n",
       "      <td>0.927</td>\n",
       "      <td>27</td>\n",
       "      <td>0</td>\n",
       "    </tr>\n",
       "    <tr>\n",
       "      <th>4</th>\n",
       "      <td>ariaripart1</td>\n",
       "      <td>bombayrockers</td>\n",
       "      <td>6dWQ9E5mFjQZA7ujh3wd2Z</td>\n",
       "      <td>0.758</td>\n",
       "      <td>7</td>\n",
       "      <td>1</td>\n",
       "      <td>0.000154</td>\n",
       "      <td>0.458445</td>\n",
       "      <td>0.918</td>\n",
       "      <td>-2.487</td>\n",
       "      <td>0.1080</td>\n",
       "      <td>0.00085</td>\n",
       "      <td>0.445791</td>\n",
       "      <td>0.0619</td>\n",
       "      <td>0.721</td>\n",
       "      <td>33</td>\n",
       "      <td>0</td>\n",
       "    </tr>\n",
       "  </tbody>\n",
       "</table>\n",
       "</div>"
      ],
      "text/plain": [
       "          name         artist                      id  danceability  key  \\\n",
       "0  ishqkaminaa        djjiten  1YFTLSuSQ0odUosJIVTvOC         0.782    5   \n",
       "1      bhoolja          shaan  7pCE1BHlNVbvIuqUEOGAj5         0.696    0   \n",
       "2     tanhadil          shaan  4kO9vFarqUPNwlgFnVNgVh         0.621    7   \n",
       "3     sexymama  bombayrockers  5VG9YmTLrTuhOlhWYDdI8v         0.830    9   \n",
       "4  ariaripart1  bombayrockers  6dWQ9E5mFjQZA7ujh3wd2Z         0.758    7   \n",
       "\n",
       "   mode  instrumentalness  duration  energy  loudness  speechiness  \\\n",
       "0     0          0.000013  1.907673   0.972    -7.542       0.1480   \n",
       "1     0          0.000185  1.389656   0.888    -2.285       0.0336   \n",
       "2     0          0.000000  1.761857   0.704    -5.293       0.0236   \n",
       "3     0          0.000001  1.402920   0.770    -4.135       0.1120   \n",
       "4     1          0.000154  0.458445   0.918    -2.487       0.1080   \n",
       "\n",
       "   acousticness     tempo  liveness  valence  popularity  hollywood  \n",
       "0       0.02550  0.608960    0.3690    0.557           0          0  \n",
       "1       0.05920  0.549908    0.1310    0.676          36          0  \n",
       "2       0.10100  0.454296    0.1850    0.366          44          0  \n",
       "3       0.48300  0.454514    0.1270    0.927          27          0  \n",
       "4       0.00085  0.445791    0.0619    0.721          33          0  "
      ]
     },
     "execution_count": 408,
     "metadata": {},
     "output_type": "execute_result"
    }
   ],
   "source": [
    "final_df.head()"
   ]
  },
  {
   "cell_type": "code",
   "execution_count": 409,
   "metadata": {
    "colab": {
     "base_uri": "https://localhost:8080/",
     "height": 215
    },
    "id": "tviutUm97KrG",
    "outputId": "69a90322-89d1-484d-9ea4-13cbc15faa9d"
   },
   "outputs": [
    {
     "data": {
      "text/html": [
       "<div>\n",
       "<style scoped>\n",
       "    .dataframe tbody tr th:only-of-type {\n",
       "        vertical-align: middle;\n",
       "    }\n",
       "\n",
       "    .dataframe tbody tr th {\n",
       "        vertical-align: top;\n",
       "    }\n",
       "\n",
       "    .dataframe thead th {\n",
       "        text-align: right;\n",
       "    }\n",
       "</style>\n",
       "<table border=\"1\" class=\"dataframe\">\n",
       "  <thead>\n",
       "    <tr style=\"text-align: right;\">\n",
       "      <th></th>\n",
       "      <th>name</th>\n",
       "      <th>artist</th>\n",
       "      <th>id</th>\n",
       "      <th>danceability</th>\n",
       "      <th>key</th>\n",
       "      <th>mode</th>\n",
       "      <th>instrumentalness</th>\n",
       "      <th>duration</th>\n",
       "      <th>energy</th>\n",
       "      <th>loudness</th>\n",
       "      <th>speechiness</th>\n",
       "      <th>acousticness</th>\n",
       "      <th>tempo</th>\n",
       "      <th>liveness</th>\n",
       "      <th>valence</th>\n",
       "      <th>popularity</th>\n",
       "      <th>hollywood</th>\n",
       "    </tr>\n",
       "  </thead>\n",
       "  <tbody>\n",
       "    <tr>\n",
       "      <th>9980</th>\n",
       "      <td>summerskin</td>\n",
       "      <td>deathcabforcutie</td>\n",
       "      <td>5vFKQF10Jhyysg3JUbfBUd</td>\n",
       "      <td>0.615</td>\n",
       "      <td>2</td>\n",
       "      <td>0</td>\n",
       "      <td>0.033400</td>\n",
       "      <td>1.275043</td>\n",
       "      <td>0.476</td>\n",
       "      <td>-12.205</td>\n",
       "      <td>0.0337</td>\n",
       "      <td>0.161000</td>\n",
       "      <td>0.416304</td>\n",
       "      <td>0.0946</td>\n",
       "      <td>0.6110</td>\n",
       "      <td>47</td>\n",
       "      <td>1</td>\n",
       "    </tr>\n",
       "    <tr>\n",
       "      <th>9981</th>\n",
       "      <td>takeonme</td>\n",
       "      <td>a1</td>\n",
       "      <td>6IVJFZI4fejlJ9XTa3CG5G</td>\n",
       "      <td>0.562</td>\n",
       "      <td>9</td>\n",
       "      <td>1</td>\n",
       "      <td>0.000002</td>\n",
       "      <td>1.382976</td>\n",
       "      <td>0.931</td>\n",
       "      <td>-4.809</td>\n",
       "      <td>0.0469</td>\n",
       "      <td>0.085900</td>\n",
       "      <td>0.750392</td>\n",
       "      <td>0.2690</td>\n",
       "      <td>0.5370</td>\n",
       "      <td>48</td>\n",
       "      <td>1</td>\n",
       "    </tr>\n",
       "    <tr>\n",
       "      <th>9982</th>\n",
       "      <td>shiver</td>\n",
       "      <td>maroon5</td>\n",
       "      <td>0Yb0L5qlyMDyAZor9d57iS</td>\n",
       "      <td>0.620</td>\n",
       "      <td>0</td>\n",
       "      <td>1</td>\n",
       "      <td>0.000000</td>\n",
       "      <td>1.185173</td>\n",
       "      <td>0.919</td>\n",
       "      <td>-4.475</td>\n",
       "      <td>0.3570</td>\n",
       "      <td>0.039700</td>\n",
       "      <td>0.781939</td>\n",
       "      <td>0.8510</td>\n",
       "      <td>0.5070</td>\n",
       "      <td>0</td>\n",
       "      <td>1</td>\n",
       "    </tr>\n",
       "    <tr>\n",
       "      <th>9983</th>\n",
       "      <td>matkustaja</td>\n",
       "      <td>egotrippi</td>\n",
       "      <td>5esJb63Nbi1LeG0v4NyKTt</td>\n",
       "      <td>0.488</td>\n",
       "      <td>9</td>\n",
       "      <td>1</td>\n",
       "      <td>0.000000</td>\n",
       "      <td>1.532019</td>\n",
       "      <td>0.615</td>\n",
       "      <td>-4.377</td>\n",
       "      <td>0.0295</td>\n",
       "      <td>0.034000</td>\n",
       "      <td>0.591155</td>\n",
       "      <td>0.2080</td>\n",
       "      <td>0.6860</td>\n",
       "      <td>51</td>\n",
       "      <td>1</td>\n",
       "    </tr>\n",
       "    <tr>\n",
       "      <th>9984</th>\n",
       "      <td>specialneeds</td>\n",
       "      <td>placebo</td>\n",
       "      <td>63Cg39cB5xAmjObaKPAd9z</td>\n",
       "      <td>0.300</td>\n",
       "      <td>10</td>\n",
       "      <td>0</td>\n",
       "      <td>0.811000</td>\n",
       "      <td>1.865448</td>\n",
       "      <td>0.564</td>\n",
       "      <td>-10.163</td>\n",
       "      <td>0.0341</td>\n",
       "      <td>0.000906</td>\n",
       "      <td>0.808826</td>\n",
       "      <td>0.0924</td>\n",
       "      <td>0.0405</td>\n",
       "      <td>0</td>\n",
       "      <td>1</td>\n",
       "    </tr>\n",
       "  </tbody>\n",
       "</table>\n",
       "</div>"
      ],
      "text/plain": [
       "              name            artist                      id  danceability  \\\n",
       "9980    summerskin  deathcabforcutie  5vFKQF10Jhyysg3JUbfBUd         0.615   \n",
       "9981      takeonme                a1  6IVJFZI4fejlJ9XTa3CG5G         0.562   \n",
       "9982        shiver           maroon5  0Yb0L5qlyMDyAZor9d57iS         0.620   \n",
       "9983    matkustaja         egotrippi  5esJb63Nbi1LeG0v4NyKTt         0.488   \n",
       "9984  specialneeds           placebo  63Cg39cB5xAmjObaKPAd9z         0.300   \n",
       "\n",
       "      key  mode  instrumentalness  duration  energy  loudness  speechiness  \\\n",
       "9980    2     0          0.033400  1.275043   0.476   -12.205       0.0337   \n",
       "9981    9     1          0.000002  1.382976   0.931    -4.809       0.0469   \n",
       "9982    0     1          0.000000  1.185173   0.919    -4.475       0.3570   \n",
       "9983    9     1          0.000000  1.532019   0.615    -4.377       0.0295   \n",
       "9984   10     0          0.811000  1.865448   0.564   -10.163       0.0341   \n",
       "\n",
       "      acousticness     tempo  liveness  valence  popularity  hollywood  \n",
       "9980      0.161000  0.416304    0.0946   0.6110          47          1  \n",
       "9981      0.085900  0.750392    0.2690   0.5370          48          1  \n",
       "9982      0.039700  0.781939    0.8510   0.5070           0          1  \n",
       "9983      0.034000  0.591155    0.2080   0.6860          51          1  \n",
       "9984      0.000906  0.808826    0.0924   0.0405           0          1  "
      ]
     },
     "execution_count": 409,
     "metadata": {},
     "output_type": "execute_result"
    }
   ],
   "source": [
    "final_df.tail()"
   ]
  },
  {
   "cell_type": "markdown",
   "metadata": {
    "id": "LTpcff2o-6BA"
   },
   "source": [
    "## Dataframe to CSV"
   ]
  },
  {
   "cell_type": "code",
   "execution_count": 410,
   "metadata": {
    "id": "OL79mtvi7aIL"
   },
   "outputs": [],
   "source": [
    "final_df.to_csv(\"holly_bolly_11K.csv\", index=False)"
   ]
  },
  {
   "cell_type": "markdown",
   "metadata": {
    "id": "0yGTpoqTMN6e"
   },
   "source": [
    "# Combined Dataset"
   ]
  },
  {
   "cell_type": "code",
   "execution_count": 411,
   "metadata": {
    "id": "GszLpWvQMW2h"
   },
   "outputs": [],
   "source": [
    "combined_df=pd.read_csv(\"holly_bolly_11K.csv\")"
   ]
  },
  {
   "cell_type": "code",
   "execution_count": 412,
   "metadata": {
    "colab": {
     "base_uri": "https://localhost:8080/",
     "height": 282
    },
    "id": "L5NGpk22SgdF",
    "outputId": "fb4c0cc9-220f-4f95-cc76-7836c1f38100"
   },
   "outputs": [
    {
     "data": {
      "text/html": [
       "<div>\n",
       "<style scoped>\n",
       "    .dataframe tbody tr th:only-of-type {\n",
       "        vertical-align: middle;\n",
       "    }\n",
       "\n",
       "    .dataframe tbody tr th {\n",
       "        vertical-align: top;\n",
       "    }\n",
       "\n",
       "    .dataframe thead th {\n",
       "        text-align: right;\n",
       "    }\n",
       "</style>\n",
       "<table border=\"1\" class=\"dataframe\">\n",
       "  <thead>\n",
       "    <tr style=\"text-align: right;\">\n",
       "      <th></th>\n",
       "      <th>name</th>\n",
       "      <th>artist</th>\n",
       "      <th>id</th>\n",
       "      <th>danceability</th>\n",
       "      <th>key</th>\n",
       "      <th>mode</th>\n",
       "      <th>instrumentalness</th>\n",
       "      <th>duration</th>\n",
       "      <th>energy</th>\n",
       "      <th>loudness</th>\n",
       "      <th>speechiness</th>\n",
       "      <th>acousticness</th>\n",
       "      <th>tempo</th>\n",
       "      <th>liveness</th>\n",
       "      <th>valence</th>\n",
       "      <th>popularity</th>\n",
       "      <th>hollywood</th>\n",
       "    </tr>\n",
       "  </thead>\n",
       "  <tbody>\n",
       "    <tr>\n",
       "      <th>0</th>\n",
       "      <td>ishqkaminaa</td>\n",
       "      <td>djjiten</td>\n",
       "      <td>1YFTLSuSQ0odUosJIVTvOC</td>\n",
       "      <td>0.782</td>\n",
       "      <td>5</td>\n",
       "      <td>0</td>\n",
       "      <td>0.000013</td>\n",
       "      <td>1.907673</td>\n",
       "      <td>0.972</td>\n",
       "      <td>-7.542</td>\n",
       "      <td>0.1480</td>\n",
       "      <td>0.02550</td>\n",
       "      <td>0.608960</td>\n",
       "      <td>0.3690</td>\n",
       "      <td>0.557</td>\n",
       "      <td>0</td>\n",
       "      <td>0</td>\n",
       "    </tr>\n",
       "    <tr>\n",
       "      <th>1</th>\n",
       "      <td>bhoolja</td>\n",
       "      <td>shaan</td>\n",
       "      <td>7pCE1BHlNVbvIuqUEOGAj5</td>\n",
       "      <td>0.696</td>\n",
       "      <td>0</td>\n",
       "      <td>0</td>\n",
       "      <td>0.000185</td>\n",
       "      <td>1.389656</td>\n",
       "      <td>0.888</td>\n",
       "      <td>-2.285</td>\n",
       "      <td>0.0336</td>\n",
       "      <td>0.05920</td>\n",
       "      <td>0.549908</td>\n",
       "      <td>0.1310</td>\n",
       "      <td>0.676</td>\n",
       "      <td>36</td>\n",
       "      <td>0</td>\n",
       "    </tr>\n",
       "    <tr>\n",
       "      <th>2</th>\n",
       "      <td>tanhadil</td>\n",
       "      <td>shaan</td>\n",
       "      <td>4kO9vFarqUPNwlgFnVNgVh</td>\n",
       "      <td>0.621</td>\n",
       "      <td>7</td>\n",
       "      <td>0</td>\n",
       "      <td>0.000000</td>\n",
       "      <td>1.761857</td>\n",
       "      <td>0.704</td>\n",
       "      <td>-5.293</td>\n",
       "      <td>0.0236</td>\n",
       "      <td>0.10100</td>\n",
       "      <td>0.454296</td>\n",
       "      <td>0.1850</td>\n",
       "      <td>0.366</td>\n",
       "      <td>44</td>\n",
       "      <td>0</td>\n",
       "    </tr>\n",
       "    <tr>\n",
       "      <th>3</th>\n",
       "      <td>sexymama</td>\n",
       "      <td>bombayrockers</td>\n",
       "      <td>5VG9YmTLrTuhOlhWYDdI8v</td>\n",
       "      <td>0.830</td>\n",
       "      <td>9</td>\n",
       "      <td>0</td>\n",
       "      <td>0.000001</td>\n",
       "      <td>1.402920</td>\n",
       "      <td>0.770</td>\n",
       "      <td>-4.135</td>\n",
       "      <td>0.1120</td>\n",
       "      <td>0.48300</td>\n",
       "      <td>0.454514</td>\n",
       "      <td>0.1270</td>\n",
       "      <td>0.927</td>\n",
       "      <td>27</td>\n",
       "      <td>0</td>\n",
       "    </tr>\n",
       "    <tr>\n",
       "      <th>4</th>\n",
       "      <td>ariaripart1</td>\n",
       "      <td>bombayrockers</td>\n",
       "      <td>6dWQ9E5mFjQZA7ujh3wd2Z</td>\n",
       "      <td>0.758</td>\n",
       "      <td>7</td>\n",
       "      <td>1</td>\n",
       "      <td>0.000154</td>\n",
       "      <td>0.458445</td>\n",
       "      <td>0.918</td>\n",
       "      <td>-2.487</td>\n",
       "      <td>0.1080</td>\n",
       "      <td>0.00085</td>\n",
       "      <td>0.445791</td>\n",
       "      <td>0.0619</td>\n",
       "      <td>0.721</td>\n",
       "      <td>33</td>\n",
       "      <td>0</td>\n",
       "    </tr>\n",
       "  </tbody>\n",
       "</table>\n",
       "</div>"
      ],
      "text/plain": [
       "          name         artist                      id  danceability  key  \\\n",
       "0  ishqkaminaa        djjiten  1YFTLSuSQ0odUosJIVTvOC         0.782    5   \n",
       "1      bhoolja          shaan  7pCE1BHlNVbvIuqUEOGAj5         0.696    0   \n",
       "2     tanhadil          shaan  4kO9vFarqUPNwlgFnVNgVh         0.621    7   \n",
       "3     sexymama  bombayrockers  5VG9YmTLrTuhOlhWYDdI8v         0.830    9   \n",
       "4  ariaripart1  bombayrockers  6dWQ9E5mFjQZA7ujh3wd2Z         0.758    7   \n",
       "\n",
       "   mode  instrumentalness  duration  energy  loudness  speechiness  \\\n",
       "0     0          0.000013  1.907673   0.972    -7.542       0.1480   \n",
       "1     0          0.000185  1.389656   0.888    -2.285       0.0336   \n",
       "2     0          0.000000  1.761857   0.704    -5.293       0.0236   \n",
       "3     0          0.000001  1.402920   0.770    -4.135       0.1120   \n",
       "4     1          0.000154  0.458445   0.918    -2.487       0.1080   \n",
       "\n",
       "   acousticness     tempo  liveness  valence  popularity  hollywood  \n",
       "0       0.02550  0.608960    0.3690    0.557           0          0  \n",
       "1       0.05920  0.549908    0.1310    0.676          36          0  \n",
       "2       0.10100  0.454296    0.1850    0.366          44          0  \n",
       "3       0.48300  0.454514    0.1270    0.927          27          0  \n",
       "4       0.00085  0.445791    0.0619    0.721          33          0  "
      ]
     },
     "execution_count": 412,
     "metadata": {},
     "output_type": "execute_result"
    }
   ],
   "source": [
    "combined_df.head()"
   ]
  },
  {
   "cell_type": "markdown",
   "metadata": {
    "id": "mA3zss2sRaZV"
   },
   "source": [
    "## Name"
   ]
  },
  {
   "cell_type": "code",
   "execution_count": 413,
   "metadata": {
    "id": "B7mbEf8tRcAG"
   },
   "outputs": [],
   "source": [
    "spec_chars = [\"!\",'\"',\"#\",\"%\",\"&\",\"'\",\"(\",\")\",\n",
    "              \"*\",\"+\",\",\",\"-\",\".\",\"/\",\":\",\";\",\"<\",\n",
    "              \"=\",\">\",\"?\",\"@\",\"[\",\"\\\\\",\"]\",\"^\",\"_\",\n",
    "              \"`\",\"{\",\"|\",\"}\",\"~\",\"–\"]\n",
    "for char in spec_chars:\n",
    "    combined_df['name'] = combined_df['name'].str.replace(char, '')"
   ]
  },
  {
   "cell_type": "code",
   "execution_count": 414,
   "metadata": {
    "id": "XjiZMdbISS0R"
   },
   "outputs": [],
   "source": [
    "combined_df[\"name\"] = combined_df[\"name\"].str.lower()"
   ]
  },
  {
   "cell_type": "code",
   "execution_count": 415,
   "metadata": {
    "colab": {
     "base_uri": "https://localhost:8080/",
     "height": 266
    },
    "id": "1KnRPtXrSdsT",
    "outputId": "1f57042f-3f92-48e6-ceb4-338232cde3d7"
   },
   "outputs": [
    {
     "data": {
      "text/html": [
       "<div>\n",
       "<style scoped>\n",
       "    .dataframe tbody tr th:only-of-type {\n",
       "        vertical-align: middle;\n",
       "    }\n",
       "\n",
       "    .dataframe tbody tr th {\n",
       "        vertical-align: top;\n",
       "    }\n",
       "\n",
       "    .dataframe thead th {\n",
       "        text-align: right;\n",
       "    }\n",
       "</style>\n",
       "<table border=\"1\" class=\"dataframe\">\n",
       "  <thead>\n",
       "    <tr style=\"text-align: right;\">\n",
       "      <th></th>\n",
       "      <th>name</th>\n",
       "      <th>artist</th>\n",
       "      <th>id</th>\n",
       "      <th>danceability</th>\n",
       "      <th>key</th>\n",
       "      <th>mode</th>\n",
       "      <th>instrumentalness</th>\n",
       "      <th>duration</th>\n",
       "      <th>energy</th>\n",
       "      <th>loudness</th>\n",
       "      <th>speechiness</th>\n",
       "      <th>acousticness</th>\n",
       "      <th>tempo</th>\n",
       "      <th>liveness</th>\n",
       "      <th>valence</th>\n",
       "      <th>popularity</th>\n",
       "      <th>hollywood</th>\n",
       "    </tr>\n",
       "  </thead>\n",
       "  <tbody>\n",
       "    <tr>\n",
       "      <th>0</th>\n",
       "      <td>ishqkaminaa</td>\n",
       "      <td>djjiten</td>\n",
       "      <td>1YFTLSuSQ0odUosJIVTvOC</td>\n",
       "      <td>0.782</td>\n",
       "      <td>5</td>\n",
       "      <td>0</td>\n",
       "      <td>0.000013</td>\n",
       "      <td>1.907673</td>\n",
       "      <td>0.972</td>\n",
       "      <td>-7.542</td>\n",
       "      <td>0.1480</td>\n",
       "      <td>0.02550</td>\n",
       "      <td>0.608960</td>\n",
       "      <td>0.3690</td>\n",
       "      <td>0.557</td>\n",
       "      <td>0</td>\n",
       "      <td>0</td>\n",
       "    </tr>\n",
       "    <tr>\n",
       "      <th>1</th>\n",
       "      <td>bhoolja</td>\n",
       "      <td>shaan</td>\n",
       "      <td>7pCE1BHlNVbvIuqUEOGAj5</td>\n",
       "      <td>0.696</td>\n",
       "      <td>0</td>\n",
       "      <td>0</td>\n",
       "      <td>0.000185</td>\n",
       "      <td>1.389656</td>\n",
       "      <td>0.888</td>\n",
       "      <td>-2.285</td>\n",
       "      <td>0.0336</td>\n",
       "      <td>0.05920</td>\n",
       "      <td>0.549908</td>\n",
       "      <td>0.1310</td>\n",
       "      <td>0.676</td>\n",
       "      <td>36</td>\n",
       "      <td>0</td>\n",
       "    </tr>\n",
       "    <tr>\n",
       "      <th>2</th>\n",
       "      <td>tanhadil</td>\n",
       "      <td>shaan</td>\n",
       "      <td>4kO9vFarqUPNwlgFnVNgVh</td>\n",
       "      <td>0.621</td>\n",
       "      <td>7</td>\n",
       "      <td>0</td>\n",
       "      <td>0.000000</td>\n",
       "      <td>1.761857</td>\n",
       "      <td>0.704</td>\n",
       "      <td>-5.293</td>\n",
       "      <td>0.0236</td>\n",
       "      <td>0.10100</td>\n",
       "      <td>0.454296</td>\n",
       "      <td>0.1850</td>\n",
       "      <td>0.366</td>\n",
       "      <td>44</td>\n",
       "      <td>0</td>\n",
       "    </tr>\n",
       "    <tr>\n",
       "      <th>3</th>\n",
       "      <td>sexymama</td>\n",
       "      <td>bombayrockers</td>\n",
       "      <td>5VG9YmTLrTuhOlhWYDdI8v</td>\n",
       "      <td>0.830</td>\n",
       "      <td>9</td>\n",
       "      <td>0</td>\n",
       "      <td>0.000001</td>\n",
       "      <td>1.402920</td>\n",
       "      <td>0.770</td>\n",
       "      <td>-4.135</td>\n",
       "      <td>0.1120</td>\n",
       "      <td>0.48300</td>\n",
       "      <td>0.454514</td>\n",
       "      <td>0.1270</td>\n",
       "      <td>0.927</td>\n",
       "      <td>27</td>\n",
       "      <td>0</td>\n",
       "    </tr>\n",
       "    <tr>\n",
       "      <th>4</th>\n",
       "      <td>ariaripart1</td>\n",
       "      <td>bombayrockers</td>\n",
       "      <td>6dWQ9E5mFjQZA7ujh3wd2Z</td>\n",
       "      <td>0.758</td>\n",
       "      <td>7</td>\n",
       "      <td>1</td>\n",
       "      <td>0.000154</td>\n",
       "      <td>0.458445</td>\n",
       "      <td>0.918</td>\n",
       "      <td>-2.487</td>\n",
       "      <td>0.1080</td>\n",
       "      <td>0.00085</td>\n",
       "      <td>0.445791</td>\n",
       "      <td>0.0619</td>\n",
       "      <td>0.721</td>\n",
       "      <td>33</td>\n",
       "      <td>0</td>\n",
       "    </tr>\n",
       "  </tbody>\n",
       "</table>\n",
       "</div>"
      ],
      "text/plain": [
       "          name         artist                      id  danceability  key  \\\n",
       "0  ishqkaminaa        djjiten  1YFTLSuSQ0odUosJIVTvOC         0.782    5   \n",
       "1      bhoolja          shaan  7pCE1BHlNVbvIuqUEOGAj5         0.696    0   \n",
       "2     tanhadil          shaan  4kO9vFarqUPNwlgFnVNgVh         0.621    7   \n",
       "3     sexymama  bombayrockers  5VG9YmTLrTuhOlhWYDdI8v         0.830    9   \n",
       "4  ariaripart1  bombayrockers  6dWQ9E5mFjQZA7ujh3wd2Z         0.758    7   \n",
       "\n",
       "   mode  instrumentalness  duration  energy  loudness  speechiness  \\\n",
       "0     0          0.000013  1.907673   0.972    -7.542       0.1480   \n",
       "1     0          0.000185  1.389656   0.888    -2.285       0.0336   \n",
       "2     0          0.000000  1.761857   0.704    -5.293       0.0236   \n",
       "3     0          0.000001  1.402920   0.770    -4.135       0.1120   \n",
       "4     1          0.000154  0.458445   0.918    -2.487       0.1080   \n",
       "\n",
       "   acousticness     tempo  liveness  valence  popularity  hollywood  \n",
       "0       0.02550  0.608960    0.3690    0.557           0          0  \n",
       "1       0.05920  0.549908    0.1310    0.676          36          0  \n",
       "2       0.10100  0.454296    0.1850    0.366          44          0  \n",
       "3       0.48300  0.454514    0.1270    0.927          27          0  \n",
       "4       0.00085  0.445791    0.0619    0.721          33          0  "
      ]
     },
     "execution_count": 415,
     "metadata": {},
     "output_type": "execute_result"
    }
   ],
   "source": [
    "combined_df.head()"
   ]
  },
  {
   "cell_type": "markdown",
   "metadata": {
    "id": "B0Da7l16TQhk"
   },
   "source": [
    "White spaces are now back in place in 'name'."
   ]
  },
  {
   "cell_type": "markdown",
   "metadata": {
    "id": "9y9Sf0LXTAvC"
   },
   "source": [
    "## Popularity"
   ]
  },
  {
   "cell_type": "code",
   "execution_count": 416,
   "metadata": {
    "colab": {
     "base_uri": "https://localhost:8080/",
     "height": 317
    },
    "id": "pfKvy-FdN3qO",
    "outputId": "ac27583f-ac27-48ad-98af-75f1636dfd29"
   },
   "outputs": [
    {
     "name": "stdout",
     "output_type": "stream",
     "text": [
      "Mean value for popularity: 20.25441696113074\n",
      "Skewness = 0.62777\n"
     ]
    },
    {
     "data": {
      "image/png": "[encoded data removed]",
      "text/plain": [
       "<Figure size 432x288 with 1 Axes>"
      ]
     },
     "metadata": {
      "needs_background": "light"
     },
     "output_type": "display_data"
    }
   ],
   "source": [
    "print(\"Mean value for popularity:\", combined_df['popularity'].mean())\n",
    "print(\"Skewness =\", round((stats.skew(combined_df['popularity'])), ndigits=5))\n",
    "sns.distplot(combined_df['popularity'],color='red')\n",
    "plt.show()"
   ]
  },
  {
   "cell_type": "code",
   "execution_count": 417,
   "metadata": {
    "id": "MnKBEITVTF7b"
   },
   "outputs": [],
   "source": [
    "def normalize(column):\n",
    "    upper = column.max()\n",
    "    lower = column.min()\n",
    "    y = (column - lower)/(upper-lower)\n",
    "    return y\n",
    "combined_df.popularity = normalize(combined_df.popularity)"
   ]
  },
  {
   "cell_type": "code",
   "execution_count": 418,
   "metadata": {
    "colab": {
     "base_uri": "https://localhost:8080/",
     "height": 313
    },
    "id": "AYBcgn4cUlvF",
    "outputId": "bfbbc67c-b133-4c0f-bda5-354602d46551"
   },
   "outputs": [
    {
     "name": "stdout",
     "output_type": "stream",
     "text": [
      "Mean value for popularity: 0.1017809897544264\n",
      "Skewness = 0.62777\n"
     ]
    },
    {
     "data": {
      "image/png": "[encoded data removed]",
      "text/plain": [
       "<Figure size 432x288 with 1 Axes>"
      ]
     },
     "metadata": {
      "needs_background": "light"
     },
     "output_type": "display_data"
    }
   ],
   "source": [
    "print(\"Mean value for popularity:\", combined_df['popularity'].mean())\n",
    "print(\"Skewness =\", round((stats.skew(combined_df['popularity'])), ndigits=5))\n",
    "sns.distplot(combined_df['popularity'],color='red')\n",
    "plt.show()"
   ]
  },
  {
   "cell_type": "markdown",
   "metadata": {
    "id": "tgbUXxVwU4GO"
   },
   "source": [
    "Popularity is now normalized and all the values are in the range 0 to 1.\n",
    "Box Cox transformation will not work on this because it has a lot of zeroes. Suggestions on what to do?"
   ]
  },
  {
   "cell_type": "code",
   "execution_count": 419,
   "metadata": {
    "colab": {
     "base_uri": "https://localhost:8080/",
     "height": 266
    },
    "id": "zRNPy3XxT7nW",
    "outputId": "ba5c5ee0-9b28-424f-8db6-24481020c24b"
   },
   "outputs": [
    {
     "data": {
      "text/html": [
       "<div>\n",
       "<style scoped>\n",
       "    .dataframe tbody tr th:only-of-type {\n",
       "        vertical-align: middle;\n",
       "    }\n",
       "\n",
       "    .dataframe tbody tr th {\n",
       "        vertical-align: top;\n",
       "    }\n",
       "\n",
       "    .dataframe thead th {\n",
       "        text-align: right;\n",
       "    }\n",
       "</style>\n",
       "<table border=\"1\" class=\"dataframe\">\n",
       "  <thead>\n",
       "    <tr style=\"text-align: right;\">\n",
       "      <th></th>\n",
       "      <th>name</th>\n",
       "      <th>artist</th>\n",
       "      <th>id</th>\n",
       "      <th>danceability</th>\n",
       "      <th>key</th>\n",
       "      <th>mode</th>\n",
       "      <th>instrumentalness</th>\n",
       "      <th>duration</th>\n",
       "      <th>energy</th>\n",
       "      <th>loudness</th>\n",
       "      <th>speechiness</th>\n",
       "      <th>acousticness</th>\n",
       "      <th>tempo</th>\n",
       "      <th>liveness</th>\n",
       "      <th>valence</th>\n",
       "      <th>popularity</th>\n",
       "      <th>hollywood</th>\n",
       "    </tr>\n",
       "  </thead>\n",
       "  <tbody>\n",
       "    <tr>\n",
       "      <th>0</th>\n",
       "      <td>ishqkaminaa</td>\n",
       "      <td>djjiten</td>\n",
       "      <td>1YFTLSuSQ0odUosJIVTvOC</td>\n",
       "      <td>0.782</td>\n",
       "      <td>5</td>\n",
       "      <td>0</td>\n",
       "      <td>0.000013</td>\n",
       "      <td>1.907673</td>\n",
       "      <td>0.972</td>\n",
       "      <td>-7.542</td>\n",
       "      <td>0.1480</td>\n",
       "      <td>0.02550</td>\n",
       "      <td>0.608960</td>\n",
       "      <td>0.3690</td>\n",
       "      <td>0.557</td>\n",
       "      <td>0.000000</td>\n",
       "      <td>0</td>\n",
       "    </tr>\n",
       "    <tr>\n",
       "      <th>1</th>\n",
       "      <td>bhoolja</td>\n",
       "      <td>shaan</td>\n",
       "      <td>7pCE1BHlNVbvIuqUEOGAj5</td>\n",
       "      <td>0.696</td>\n",
       "      <td>0</td>\n",
       "      <td>0</td>\n",
       "      <td>0.000185</td>\n",
       "      <td>1.389656</td>\n",
       "      <td>0.888</td>\n",
       "      <td>-2.285</td>\n",
       "      <td>0.0336</td>\n",
       "      <td>0.05920</td>\n",
       "      <td>0.549908</td>\n",
       "      <td>0.1310</td>\n",
       "      <td>0.676</td>\n",
       "      <td>0.180905</td>\n",
       "      <td>0</td>\n",
       "    </tr>\n",
       "    <tr>\n",
       "      <th>2</th>\n",
       "      <td>tanhadil</td>\n",
       "      <td>shaan</td>\n",
       "      <td>4kO9vFarqUPNwlgFnVNgVh</td>\n",
       "      <td>0.621</td>\n",
       "      <td>7</td>\n",
       "      <td>0</td>\n",
       "      <td>0.000000</td>\n",
       "      <td>1.761857</td>\n",
       "      <td>0.704</td>\n",
       "      <td>-5.293</td>\n",
       "      <td>0.0236</td>\n",
       "      <td>0.10100</td>\n",
       "      <td>0.454296</td>\n",
       "      <td>0.1850</td>\n",
       "      <td>0.366</td>\n",
       "      <td>0.221106</td>\n",
       "      <td>0</td>\n",
       "    </tr>\n",
       "    <tr>\n",
       "      <th>3</th>\n",
       "      <td>sexymama</td>\n",
       "      <td>bombayrockers</td>\n",
       "      <td>5VG9YmTLrTuhOlhWYDdI8v</td>\n",
       "      <td>0.830</td>\n",
       "      <td>9</td>\n",
       "      <td>0</td>\n",
       "      <td>0.000001</td>\n",
       "      <td>1.402920</td>\n",
       "      <td>0.770</td>\n",
       "      <td>-4.135</td>\n",
       "      <td>0.1120</td>\n",
       "      <td>0.48300</td>\n",
       "      <td>0.454514</td>\n",
       "      <td>0.1270</td>\n",
       "      <td>0.927</td>\n",
       "      <td>0.135678</td>\n",
       "      <td>0</td>\n",
       "    </tr>\n",
       "    <tr>\n",
       "      <th>4</th>\n",
       "      <td>ariaripart1</td>\n",
       "      <td>bombayrockers</td>\n",
       "      <td>6dWQ9E5mFjQZA7ujh3wd2Z</td>\n",
       "      <td>0.758</td>\n",
       "      <td>7</td>\n",
       "      <td>1</td>\n",
       "      <td>0.000154</td>\n",
       "      <td>0.458445</td>\n",
       "      <td>0.918</td>\n",
       "      <td>-2.487</td>\n",
       "      <td>0.1080</td>\n",
       "      <td>0.00085</td>\n",
       "      <td>0.445791</td>\n",
       "      <td>0.0619</td>\n",
       "      <td>0.721</td>\n",
       "      <td>0.165829</td>\n",
       "      <td>0</td>\n",
       "    </tr>\n",
       "  </tbody>\n",
       "</table>\n",
       "</div>"
      ],
      "text/plain": [
       "          name         artist                      id  danceability  key  \\\n",
       "0  ishqkaminaa        djjiten  1YFTLSuSQ0odUosJIVTvOC         0.782    5   \n",
       "1      bhoolja          shaan  7pCE1BHlNVbvIuqUEOGAj5         0.696    0   \n",
       "2     tanhadil          shaan  4kO9vFarqUPNwlgFnVNgVh         0.621    7   \n",
       "3     sexymama  bombayrockers  5VG9YmTLrTuhOlhWYDdI8v         0.830    9   \n",
       "4  ariaripart1  bombayrockers  6dWQ9E5mFjQZA7ujh3wd2Z         0.758    7   \n",
       "\n",
       "   mode  instrumentalness  duration  energy  loudness  speechiness  \\\n",
       "0     0          0.000013  1.907673   0.972    -7.542       0.1480   \n",
       "1     0          0.000185  1.389656   0.888    -2.285       0.0336   \n",
       "2     0          0.000000  1.761857   0.704    -5.293       0.0236   \n",
       "3     0          0.000001  1.402920   0.770    -4.135       0.1120   \n",
       "4     1          0.000154  0.458445   0.918    -2.487       0.1080   \n",
       "\n",
       "   acousticness     tempo  liveness  valence  popularity  hollywood  \n",
       "0       0.02550  0.608960    0.3690    0.557    0.000000          0  \n",
       "1       0.05920  0.549908    0.1310    0.676    0.180905          0  \n",
       "2       0.10100  0.454296    0.1850    0.366    0.221106          0  \n",
       "3       0.48300  0.454514    0.1270    0.927    0.135678          0  \n",
       "4       0.00085  0.445791    0.0619    0.721    0.165829          0  "
      ]
     },
     "execution_count": 419,
     "metadata": {},
     "output_type": "execute_result"
    }
   ],
   "source": [
    "combined_df.head()"
   ]
  },
  {
   "cell_type": "markdown",
   "metadata": {
    "id": "2HeOmvoiTxd1"
   },
   "source": [
    "## Dataframe to CSV"
   ]
  },
  {
   "cell_type": "code",
   "execution_count": 420,
   "metadata": {
    "id": "9lKEOHXjTapb"
   },
   "outputs": [],
   "source": [
    "combined_df.to_csv(\"holly_bolly_11K_final.csv\", index=False)"
   ]
  },
  {
   "cell_type": "code",
   "execution_count": 421,
   "metadata": {
    "id": "2ly6gXhTFw7A"
   },
   "outputs": [],
   "source": [
    "f_df=pd.read_csv(\"holly_bolly_11K_final.csv\")"
   ]
  },
  {
   "cell_type": "code",
   "execution_count": 422,
   "metadata": {
    "colab": {
     "base_uri": "https://localhost:8080/",
     "height": 319
    },
    "id": "ZvWTYO9zGgWX",
    "outputId": "0b8db024-9d23-4df2-e425-c2725903ec1f"
   },
   "outputs": [
    {
     "data": {
      "text/plain": [
       "name                21\n",
       "artist              21\n",
       "id                   0\n",
       "danceability         0\n",
       "key                  0\n",
       "mode                 0\n",
       "instrumentalness     0\n",
       "duration             0\n",
       "energy               0\n",
       "loudness             0\n",
       "speechiness          0\n",
       "acousticness         0\n",
       "tempo                0\n",
       "liveness             0\n",
       "valence              0\n",
       "popularity           0\n",
       "hollywood            0\n",
       "dtype: int64"
      ]
     },
     "execution_count": 422,
     "metadata": {},
     "output_type": "execute_result"
    }
   ],
   "source": [
    "f_df.isna().sum()"
   ]
  },
  {
   "cell_type": "code",
   "execution_count": 423,
   "metadata": {
    "colab": {
     "base_uri": "https://localhost:8080/",
     "height": 34
    },
    "id": "Juxlc3GaHEeR",
    "outputId": "32de1f29-69d2-4e8a-948e-bbcc0e04b615"
   },
   "outputs": [
    {
     "data": {
      "text/plain": [
       "(10754, 17)"
      ]
     },
     "execution_count": 423,
     "metadata": {},
     "output_type": "execute_result"
    }
   ],
   "source": [
    "f_df.shape"
   ]
  },
  {
   "cell_type": "code",
   "execution_count": 424,
   "metadata": {
    "id": "0A9SOMEaG3ai"
   },
   "outputs": [],
   "source": [
    "f_df = f_df.dropna(how='any',axis=0)"
   ]
  },
  {
   "cell_type": "code",
   "execution_count": 425,
   "metadata": {
    "colab": {
     "base_uri": "https://localhost:8080/",
     "height": 34
    },
    "id": "Cv3xvsyRI4qh",
    "outputId": "b666fde5-e639-4d87-df87-fb6a55d3344e"
   },
   "outputs": [
    {
     "data": {
      "text/plain": [
       "(10733, 17)"
      ]
     },
     "execution_count": 425,
     "metadata": {},
     "output_type": "execute_result"
    }
   ],
   "source": [
    "f_df.shape"
   ]
  },
  {
   "cell_type": "code",
   "execution_count": 426,
   "metadata": {
    "colab": {
     "base_uri": "https://localhost:8080/",
     "height": 319
    },
    "id": "tZwij7iZJA_E",
    "outputId": "8b18eefd-4446-4303-c584-be7f84bed337"
   },
   "outputs": [
    {
     "data": {
      "text/plain": [
       "name                0\n",
       "artist              0\n",
       "id                  0\n",
       "danceability        0\n",
       "key                 0\n",
       "mode                0\n",
       "instrumentalness    0\n",
       "duration            0\n",
       "energy              0\n",
       "loudness            0\n",
       "speechiness         0\n",
       "acousticness        0\n",
       "tempo               0\n",
       "liveness            0\n",
       "valence             0\n",
       "popularity          0\n",
       "hollywood           0\n",
       "dtype: int64"
      ]
     },
     "execution_count": 426,
     "metadata": {},
     "output_type": "execute_result"
    }
   ],
   "source": [
    "f_df.isna().sum()"
   ]
  },
  {
   "cell_type": "code",
   "execution_count": 427,
   "metadata": {
    "id": "veigSrnJJIwJ"
   },
   "outputs": [],
   "source": [
    "f_df.to_csv(\"holly_bolly_10733_final.csv\", index=False)"
   ]
  }
 ],
 "metadata": {
  "colab": {
   "collapsed_sections": [],
   "name": "11K_Holly_Bolly_Spotify.ipynb",
   "provenance": [],
   "toc_visible": true
  },
  "kernelspec": {
   "display_name": "Python 3",
   "language": "python",
   "name": "python3"
  },
  "language_info": {
   "codemirror_mode": {
    "name": "ipython",
    "version": 3
   },
   "file_extension": ".py",
   "mimetype": "text/x-python",
   "name": "python",
   "nbconvert_exporter": "python",
   "pygments_lexer": "ipython3",
   "version": "3.7.9"
  },
  "widgets": {
   "application/vnd.jupyter.widget-state+json": {
    "09dbe556923f45fbaa185c266748506c": {
     "model_module": "@jupyter-widgets/controls",
     "model_name": "ProgressStyleModel",
     "state": {
      "_model_module": "@jupyter-widgets/controls",
      "_model_module_version": "1.5.0",
      "_model_name": "ProgressStyleModel",
      "_view_count": null,
      "_view_module": "@jupyter-widgets/base",
      "_view_module_version": "1.2.0",
      "_view_name": "StyleView",
      "bar_color": null,
      "description_width": "initial"
     }
    },
    "0b043146891e456da70a8dcfd8538c43": {
     "model_module": "@jupyter-widgets/base",
     "model_name": "LayoutModel",
     "state": {
      "_model_module": "@jupyter-widgets/base",
      "_model_module_version": "1.2.0",
      "_model_name": "LayoutModel",
      "_view_count": null,
      "_view_module": "@jupyter-widgets/base",
      "_view_module_version": "1.2.0",
      "_view_name": "LayoutView",
      "align_content": null,
      "align_items": null,
      "align_self": null,
      "border": null,
      "bottom": null,
      "display": null,
      "flex": null,
      "flex_flow": null,
      "grid_area": null,
      "grid_auto_columns": null,
      "grid_auto_flow": null,
      "grid_auto_rows": null,
      "grid_column": null,
      "grid_gap": null,
      "grid_row": null,
      "grid_template_areas": null,
      "grid_template_columns": null,
      "grid_template_rows": null,
      "height": null,
      "justify_content": null,
      "justify_items": null,
      "left": null,
      "margin": null,
      "max_height": null,
      "max_width": null,
      "min_height": null,
      "min_width": null,
      "object_fit": null,
      "object_position": null,
      "order": null,
      "overflow": null,
      "overflow_x": null,
      "overflow_y": null,
      "padding": null,
      "right": null,
      "top": null,
      "visibility": null,
      "width": null
     }
    },
    "0e4ddf9130e2420cb5ef718abd2aa76d": {
     "model_module": "@jupyter-widgets/base",
     "model_name": "LayoutModel",
     "state": {
      "_model_module": "@jupyter-widgets/base",
      "_model_module_version": "1.2.0",
      "_model_name": "LayoutModel",
      "_view_count": null,
      "_view_module": "@jupyter-widgets/base",
      "_view_module_version": "1.2.0",
      "_view_name": "LayoutView",
      "align_content": null,
      "align_items": null,
      "align_self": null,
      "border": null,
      "bottom": null,
      "display": null,
      "flex": null,
      "flex_flow": null,
      "grid_area": null,
      "grid_auto_columns": null,
      "grid_auto_flow": null,
      "grid_auto_rows": null,
      "grid_column": null,
      "grid_gap": null,
      "grid_row": null,
      "grid_template_areas": null,
      "grid_template_columns": null,
      "grid_template_rows": null,
      "height": null,
      "justify_content": null,
      "justify_items": null,
      "left": null,
      "margin": null,
      "max_height": null,
      "max_width": null,
      "min_height": null,
      "min_width": null,
      "object_fit": null,
      "object_position": null,
      "order": null,
      "overflow": null,
      "overflow_x": null,
      "overflow_y": null,
      "padding": null,
      "right": null,
      "top": null,
      "visibility": null,
      "width": null
     }
    },
    "123a84ed18ca4d1884a23d33b85ef07b": {
     "model_module": "@jupyter-widgets/controls",
     "model_name": "FloatProgressModel",
     "state": {
      "_dom_classes": [],
      "_model_module": "@jupyter-widgets/controls",
      "_model_module_version": "1.5.0",
      "_model_name": "FloatProgressModel",
      "_view_count": null,
      "_view_module": "@jupyter-widgets/controls",
      "_view_module_version": "1.5.0",
      "_view_name": "ProgressView",
      "bar_style": "success",
      "description": "Render HTML: 100%",
      "description_tooltip": null,
      "layout": "IPY_MODEL_36e2ff4a974b40b2847cfeff8c044732",
      "max": 1,
      "min": 0,
      "orientation": "horizontal",
      "style": "IPY_MODEL_09dbe556923f45fbaa185c266748506c",
      "value": 1
     }
    },
    "24694e28ba374893b2f8a10fa54179cb": {
     "model_module": "@jupyter-widgets/controls",
     "model_name": "DescriptionStyleModel",
     "state": {
      "_model_module": "@jupyter-widgets/controls",
      "_model_module_version": "1.5.0",
      "_model_name": "DescriptionStyleModel",
      "_view_count": null,
      "_view_module": "@jupyter-widgets/base",
      "_view_module_version": "1.2.0",
      "_view_name": "StyleView",
      "description_width": ""
     }
    },
    "27bfbc6d541246a0a9b52f27b15a7f41": {
     "model_module": "@jupyter-widgets/controls",
     "model_name": "ProgressStyleModel",
     "state": {
      "_model_module": "@jupyter-widgets/controls",
      "_model_module_version": "1.5.0",
      "_model_name": "ProgressStyleModel",
      "_view_count": null,
      "_view_module": "@jupyter-widgets/base",
      "_view_module_version": "1.2.0",
      "_view_name": "StyleView",
      "bar_color": null,
      "description_width": "initial"
     }
    },
    "2c7fa58dd5dd4f8fbe56067d670573ce": {
     "model_module": "@jupyter-widgets/base",
     "model_name": "LayoutModel",
     "state": {
      "_model_module": "@jupyter-widgets/base",
      "_model_module_version": "1.2.0",
      "_model_name": "LayoutModel",
      "_view_count": null,
      "_view_module": "@jupyter-widgets/base",
      "_view_module_version": "1.2.0",
      "_view_name": "LayoutView",
      "align_content": null,
      "align_items": null,
      "align_self": null,
      "border": null,
      "bottom": null,
      "display": null,
      "flex": null,
      "flex_flow": null,
      "grid_area": null,
      "grid_auto_columns": null,
      "grid_auto_flow": null,
      "grid_auto_rows": null,
      "grid_column": null,
      "grid_gap": null,
      "grid_row": null,
      "grid_template_areas": null,
      "grid_template_columns": null,
      "grid_template_rows": null,
      "height": null,
      "justify_content": null,
      "justify_items": null,
      "left": null,
      "margin": null,
      "max_height": null,
      "max_width": null,
      "min_height": null,
      "min_width": null,
      "object_fit": null,
      "object_position": null,
      "order": null,
      "overflow": null,
      "overflow_x": null,
      "overflow_y": null,
      "padding": null,
      "right": null,
      "top": null,
      "visibility": null,
      "width": null
     }
    },
    "2db0b7b80dec428d89dc7a793879730a": {
     "model_module": "@jupyter-widgets/controls",
     "model_name": "HBoxModel",
     "state": {
      "_dom_classes": [],
      "_model_module": "@jupyter-widgets/controls",
      "_model_module_version": "1.5.0",
      "_model_name": "HBoxModel",
      "_view_count": null,
      "_view_module": "@jupyter-widgets/controls",
      "_view_module_version": "1.5.0",
      "_view_name": "HBoxView",
      "box_style": "",
      "children": [
       "IPY_MODEL_123a84ed18ca4d1884a23d33b85ef07b",
       "IPY_MODEL_9acbd8811ddb4f7194c420da4169ea17"
      ],
      "layout": "IPY_MODEL_cd903c9bc6cc4ccba95eb9cf5c38c7be"
     }
    },
    "36e2ff4a974b40b2847cfeff8c044732": {
     "model_module": "@jupyter-widgets/base",
     "model_name": "LayoutModel",
     "state": {
      "_model_module": "@jupyter-widgets/base",
      "_model_module_version": "1.2.0",
      "_model_name": "LayoutModel",
      "_view_count": null,
      "_view_module": "@jupyter-widgets/base",
      "_view_module_version": "1.2.0",
      "_view_name": "LayoutView",
      "align_content": null,
      "align_items": null,
      "align_self": null,
      "border": null,
      "bottom": null,
      "display": null,
      "flex": null,
      "flex_flow": null,
      "grid_area": null,
      "grid_auto_columns": null,
      "grid_auto_flow": null,
      "grid_auto_rows": null,
      "grid_column": null,
      "grid_gap": null,
      "grid_row": null,
      "grid_template_areas": null,
      "grid_template_columns": null,
      "grid_template_rows": null,
      "height": null,
      "justify_content": null,
      "justify_items": null,
      "left": null,
      "margin": null,
      "max_height": null,
      "max_width": null,
      "min_height": null,
      "min_width": null,
      "object_fit": null,
      "object_position": null,
      "order": null,
      "overflow": null,
      "overflow_x": null,
      "overflow_y": null,
      "padding": null,
      "right": null,
      "top": null,
      "visibility": null,
      "width": null
     }
    },
    "43b9423e926442a6bbdaf4b49f3c3c4c": {
     "model_module": "@jupyter-widgets/controls",
     "model_name": "FloatProgressModel",
     "state": {
      "_dom_classes": [],
      "_model_module": "@jupyter-widgets/controls",
      "_model_module_version": "1.5.0",
      "_model_name": "FloatProgressModel",
      "_view_count": null,
      "_view_module": "@jupyter-widgets/controls",
      "_view_module_version": "1.5.0",
      "_view_name": "ProgressView",
      "bar_style": "success",
      "description": "Summarize dataset: 100%",
      "description_tooltip": null,
      "layout": "IPY_MODEL_2c7fa58dd5dd4f8fbe56067d670573ce",
      "max": 33,
      "min": 0,
      "orientation": "horizontal",
      "style": "IPY_MODEL_6c13e78bc3834e4e83fc168c45edbc7c",
      "value": 33
     }
    },
    "50fe56451a21401bbf59bf1603ea32e8": {
     "model_module": "@jupyter-widgets/controls",
     "model_name": "HTMLModel",
     "state": {
      "_dom_classes": [],
      "_model_module": "@jupyter-widgets/controls",
      "_model_module_version": "1.5.0",
      "_model_name": "HTMLModel",
      "_view_count": null,
      "_view_module": "@jupyter-widgets/controls",
      "_view_module_version": "1.5.0",
      "_view_name": "HTMLView",
      "description": "",
      "description_tooltip": null,
      "layout": "IPY_MODEL_0b043146891e456da70a8dcfd8538c43",
      "placeholder": "​",
      "style": "IPY_MODEL_24694e28ba374893b2f8a10fa54179cb",
      "value": " 33/33 [00:38&lt;00:00,  1.18s/it, Completed]"
     }
    },
    "51566d7c9fa8414da071e3477aa80770": {
     "model_module": "@jupyter-widgets/controls",
     "model_name": "HBoxModel",
     "state": {
      "_dom_classes": [],
      "_model_module": "@jupyter-widgets/controls",
      "_model_module_version": "1.5.0",
      "_model_name": "HBoxModel",
      "_view_count": null,
      "_view_module": "@jupyter-widgets/controls",
      "_view_module_version": "1.5.0",
      "_view_name": "HBoxView",
      "box_style": "",
      "children": [
       "IPY_MODEL_acbadcbbcb274ba9b095c5e0ebc46564",
       "IPY_MODEL_bee64ebda02b4515a2db761de26a15f5"
      ],
      "layout": "IPY_MODEL_d44bba896b67451293cbca91c08d68e7"
     }
    },
    "5494598f92824de6b955015ca2167aca": {
     "model_module": "@jupyter-widgets/base",
     "model_name": "LayoutModel",
     "state": {
      "_model_module": "@jupyter-widgets/base",
      "_model_module_version": "1.2.0",
      "_model_name": "LayoutModel",
      "_view_count": null,
      "_view_module": "@jupyter-widgets/base",
      "_view_module_version": "1.2.0",
      "_view_name": "LayoutView",
      "align_content": null,
      "align_items": null,
      "align_self": null,
      "border": null,
      "bottom": null,
      "display": null,
      "flex": null,
      "flex_flow": null,
      "grid_area": null,
      "grid_auto_columns": null,
      "grid_auto_flow": null,
      "grid_auto_rows": null,
      "grid_column": null,
      "grid_gap": null,
      "grid_row": null,
      "grid_template_areas": null,
      "grid_template_columns": null,
      "grid_template_rows": null,
      "height": null,
      "justify_content": null,
      "justify_items": null,
      "left": null,
      "margin": null,
      "max_height": null,
      "max_width": null,
      "min_height": null,
      "min_width": null,
      "object_fit": null,
      "object_position": null,
      "order": null,
      "overflow": null,
      "overflow_x": null,
      "overflow_y": null,
      "padding": null,
      "right": null,
      "top": null,
      "visibility": null,
      "width": null
     }
    },
    "56f3cade59634a02bf61869fa73877b3": {
     "model_module": "@jupyter-widgets/base",
     "model_name": "LayoutModel",
     "state": {
      "_model_module": "@jupyter-widgets/base",
      "_model_module_version": "1.2.0",
      "_model_name": "LayoutModel",
      "_view_count": null,
      "_view_module": "@jupyter-widgets/base",
      "_view_module_version": "1.2.0",
      "_view_name": "LayoutView",
      "align_content": null,
      "align_items": null,
      "align_self": null,
      "border": null,
      "bottom": null,
      "display": null,
      "flex": null,
      "flex_flow": null,
      "grid_area": null,
      "grid_auto_columns": null,
      "grid_auto_flow": null,
      "grid_auto_rows": null,
      "grid_column": null,
      "grid_gap": null,
      "grid_row": null,
      "grid_template_areas": null,
      "grid_template_columns": null,
      "grid_template_rows": null,
      "height": null,
      "justify_content": null,
      "justify_items": null,
      "left": null,
      "margin": null,
      "max_height": null,
      "max_width": null,
      "min_height": null,
      "min_width": null,
      "object_fit": null,
      "object_position": null,
      "order": null,
      "overflow": null,
      "overflow_x": null,
      "overflow_y": null,
      "padding": null,
      "right": null,
      "top": null,
      "visibility": null,
      "width": null
     }
    },
    "61c91a266f74449f85660b95aa5081bc": {
     "model_module": "@jupyter-widgets/controls",
     "model_name": "HTMLModel",
     "state": {
      "_dom_classes": [],
      "_model_module": "@jupyter-widgets/controls",
      "_model_module_version": "1.5.0",
      "_model_name": "HTMLModel",
      "_view_count": null,
      "_view_module": "@jupyter-widgets/controls",
      "_view_module_version": "1.5.0",
      "_view_name": "HTMLView",
      "description": "",
      "description_tooltip": null,
      "layout": "IPY_MODEL_0e4ddf9130e2420cb5ef718abd2aa76d",
      "placeholder": "​",
      "style": "IPY_MODEL_a8d7ecc58dcb4cb0a4016fc2201c96fb",
      "value": " 1/1 [1:23:49&lt;00:00, 5029.91s/it]"
     }
    },
    "6bfac1cc23904a618ee1347cf2722238": {
     "model_module": "@jupyter-widgets/controls",
     "model_name": "ProgressStyleModel",
     "state": {
      "_model_module": "@jupyter-widgets/controls",
      "_model_module_version": "1.5.0",
      "_model_name": "ProgressStyleModel",
      "_view_count": null,
      "_view_module": "@jupyter-widgets/base",
      "_view_module_version": "1.2.0",
      "_view_name": "StyleView",
      "bar_color": null,
      "description_width": "initial"
     }
    },
    "6c13e78bc3834e4e83fc168c45edbc7c": {
     "model_module": "@jupyter-widgets/controls",
     "model_name": "ProgressStyleModel",
     "state": {
      "_model_module": "@jupyter-widgets/controls",
      "_model_module_version": "1.5.0",
      "_model_name": "ProgressStyleModel",
      "_view_count": null,
      "_view_module": "@jupyter-widgets/base",
      "_view_module_version": "1.2.0",
      "_view_name": "StyleView",
      "bar_color": null,
      "description_width": "initial"
     }
    },
    "958b2e069a834ac5a02615c510f4f4fd": {
     "model_module": "@jupyter-widgets/base",
     "model_name": "LayoutModel",
     "state": {
      "_model_module": "@jupyter-widgets/base",
      "_model_module_version": "1.2.0",
      "_model_name": "LayoutModel",
      "_view_count": null,
      "_view_module": "@jupyter-widgets/base",
      "_view_module_version": "1.2.0",
      "_view_name": "LayoutView",
      "align_content": null,
      "align_items": null,
      "align_self": null,
      "border": null,
      "bottom": null,
      "display": null,
      "flex": null,
      "flex_flow": null,
      "grid_area": null,
      "grid_auto_columns": null,
      "grid_auto_flow": null,
      "grid_auto_rows": null,
      "grid_column": null,
      "grid_gap": null,
      "grid_row": null,
      "grid_template_areas": null,
      "grid_template_columns": null,
      "grid_template_rows": null,
      "height": null,
      "justify_content": null,
      "justify_items": null,
      "left": null,
      "margin": null,
      "max_height": null,
      "max_width": null,
      "min_height": null,
      "min_width": null,
      "object_fit": null,
      "object_position": null,
      "order": null,
      "overflow": null,
      "overflow_x": null,
      "overflow_y": null,
      "padding": null,
      "right": null,
      "top": null,
      "visibility": null,
      "width": null
     }
    },
    "968d7d13fb0a47028e62f89820d133b6": {
     "model_module": "@jupyter-widgets/base",
     "model_name": "LayoutModel",
     "state": {
      "_model_module": "@jupyter-widgets/base",
      "_model_module_version": "1.2.0",
      "_model_name": "LayoutModel",
      "_view_count": null,
      "_view_module": "@jupyter-widgets/base",
      "_view_module_version": "1.2.0",
      "_view_name": "LayoutView",
      "align_content": null,
      "align_items": null,
      "align_self": null,
      "border": null,
      "bottom": null,
      "display": null,
      "flex": null,
      "flex_flow": null,
      "grid_area": null,
      "grid_auto_columns": null,
      "grid_auto_flow": null,
      "grid_auto_rows": null,
      "grid_column": null,
      "grid_gap": null,
      "grid_row": null,
      "grid_template_areas": null,
      "grid_template_columns": null,
      "grid_template_rows": null,
      "height": null,
      "justify_content": null,
      "justify_items": null,
      "left": null,
      "margin": null,
      "max_height": null,
      "max_width": null,
      "min_height": null,
      "min_width": null,
      "object_fit": null,
      "object_position": null,
      "order": null,
      "overflow": null,
      "overflow_x": null,
      "overflow_y": null,
      "padding": null,
      "right": null,
      "top": null,
      "visibility": null,
      "width": null
     }
    },
    "9acbd8811ddb4f7194c420da4169ea17": {
     "model_module": "@jupyter-widgets/controls",
     "model_name": "HTMLModel",
     "state": {
      "_dom_classes": [],
      "_model_module": "@jupyter-widgets/controls",
      "_model_module_version": "1.5.0",
      "_model_name": "HTMLModel",
      "_view_count": null,
      "_view_module": "@jupyter-widgets/controls",
      "_view_module_version": "1.5.0",
      "_view_name": "HTMLView",
      "description": "",
      "description_tooltip": null,
      "layout": "IPY_MODEL_5494598f92824de6b955015ca2167aca",
      "placeholder": "​",
      "style": "IPY_MODEL_c4b84887b7f94386a305b8583e937b59",
      "value": " 1/1 [1:25:18&lt;00:00, 5118.82s/it]"
     }
    },
    "a8d7ecc58dcb4cb0a4016fc2201c96fb": {
     "model_module": "@jupyter-widgets/controls",
     "model_name": "DescriptionStyleModel",
     "state": {
      "_model_module": "@jupyter-widgets/controls",
      "_model_module_version": "1.5.0",
      "_model_name": "DescriptionStyleModel",
      "_view_count": null,
      "_view_module": "@jupyter-widgets/base",
      "_view_module_version": "1.2.0",
      "_view_name": "StyleView",
      "description_width": ""
     }
    },
    "acbadcbbcb274ba9b095c5e0ebc46564": {
     "model_module": "@jupyter-widgets/controls",
     "model_name": "FloatProgressModel",
     "state": {
      "_dom_classes": [],
      "_model_module": "@jupyter-widgets/controls",
      "_model_module_version": "1.5.0",
      "_model_name": "FloatProgressModel",
      "_view_count": null,
      "_view_module": "@jupyter-widgets/controls",
      "_view_module_version": "1.5.0",
      "_view_name": "ProgressView",
      "bar_style": "success",
      "description": "Generate report structure: 100%",
      "description_tooltip": null,
      "layout": "IPY_MODEL_bfe34796869e4702aeea5be3f58f3160",
      "max": 1,
      "min": 0,
      "orientation": "horizontal",
      "style": "IPY_MODEL_6bfac1cc23904a618ee1347cf2722238",
      "value": 1
     }
    },
    "ad15fdc6c3084e6fb239d1d2d78c45a4": {
     "model_module": "@jupyter-widgets/controls",
     "model_name": "HBoxModel",
     "state": {
      "_dom_classes": [],
      "_model_module": "@jupyter-widgets/controls",
      "_model_module_version": "1.5.0",
      "_model_name": "HBoxModel",
      "_view_count": null,
      "_view_module": "@jupyter-widgets/controls",
      "_view_module_version": "1.5.0",
      "_view_name": "HBoxView",
      "box_style": "",
      "children": [
       "IPY_MODEL_43b9423e926442a6bbdaf4b49f3c3c4c",
       "IPY_MODEL_50fe56451a21401bbf59bf1603ea32e8"
      ],
      "layout": "IPY_MODEL_dd418e5e77184891bdb56ccb4e95f179"
     }
    },
    "b4a26eba5821448a8c9627f863fc2df0": {
     "model_module": "@jupyter-widgets/controls",
     "model_name": "FloatProgressModel",
     "state": {
      "_dom_classes": [],
      "_model_module": "@jupyter-widgets/controls",
      "_model_module_version": "1.5.0",
      "_model_name": "FloatProgressModel",
      "_view_count": null,
      "_view_module": "@jupyter-widgets/controls",
      "_view_module_version": "1.5.0",
      "_view_name": "ProgressView",
      "bar_style": "success",
      "description": "Export report to file: 100%",
      "description_tooltip": null,
      "layout": "IPY_MODEL_958b2e069a834ac5a02615c510f4f4fd",
      "max": 1,
      "min": 0,
      "orientation": "horizontal",
      "style": "IPY_MODEL_27bfbc6d541246a0a9b52f27b15a7f41",
      "value": 1
     }
    },
    "bee64ebda02b4515a2db761de26a15f5": {
     "model_module": "@jupyter-widgets/controls",
     "model_name": "HTMLModel",
     "state": {
      "_dom_classes": [],
      "_model_module": "@jupyter-widgets/controls",
      "_model_module_version": "1.5.0",
      "_model_name": "HTMLModel",
      "_view_count": null,
      "_view_module": "@jupyter-widgets/controls",
      "_view_module_version": "1.5.0",
      "_view_name": "HTMLView",
      "description": "",
      "description_tooltip": null,
      "layout": "IPY_MODEL_56f3cade59634a02bf61869fa73877b3",
      "placeholder": "​",
      "style": "IPY_MODEL_de21e9cf1e234204b06e841c92b34a92",
      "value": " 1/1 [00:09&lt;00:00,  9.60s/it]"
     }
    },
    "bfe34796869e4702aeea5be3f58f3160": {
     "model_module": "@jupyter-widgets/base",
     "model_name": "LayoutModel",
     "state": {
      "_model_module": "@jupyter-widgets/base",
      "_model_module_version": "1.2.0",
      "_model_name": "LayoutModel",
      "_view_count": null,
      "_view_module": "@jupyter-widgets/base",
      "_view_module_version": "1.2.0",
      "_view_name": "LayoutView",
      "align_content": null,
      "align_items": null,
      "align_self": null,
      "border": null,
      "bottom": null,
      "display": null,
      "flex": null,
      "flex_flow": null,
      "grid_area": null,
      "grid_auto_columns": null,
      "grid_auto_flow": null,
      "grid_auto_rows": null,
      "grid_column": null,
      "grid_gap": null,
      "grid_row": null,
      "grid_template_areas": null,
      "grid_template_columns": null,
      "grid_template_rows": null,
      "height": null,
      "justify_content": null,
      "justify_items": null,
      "left": null,
      "margin": null,
      "max_height": null,
      "max_width": null,
      "min_height": null,
      "min_width": null,
      "object_fit": null,
      "object_position": null,
      "order": null,
      "overflow": null,
      "overflow_x": null,
      "overflow_y": null,
      "padding": null,
      "right": null,
      "top": null,
      "visibility": null,
      "width": null
     }
    },
    "c4b84887b7f94386a305b8583e937b59": {
     "model_module": "@jupyter-widgets/controls",
     "model_name": "DescriptionStyleModel",
     "state": {
      "_model_module": "@jupyter-widgets/controls",
      "_model_module_version": "1.5.0",
      "_model_name": "DescriptionStyleModel",
      "_view_count": null,
      "_view_module": "@jupyter-widgets/base",
      "_view_module_version": "1.2.0",
      "_view_name": "StyleView",
      "description_width": ""
     }
    },
    "cd903c9bc6cc4ccba95eb9cf5c38c7be": {
     "model_module": "@jupyter-widgets/base",
     "model_name": "LayoutModel",
     "state": {
      "_model_module": "@jupyter-widgets/base",
      "_model_module_version": "1.2.0",
      "_model_name": "LayoutModel",
      "_view_count": null,
      "_view_module": "@jupyter-widgets/base",
      "_view_module_version": "1.2.0",
      "_view_name": "LayoutView",
      "align_content": null,
      "align_items": null,
      "align_self": null,
      "border": null,
      "bottom": null,
      "display": null,
      "flex": null,
      "flex_flow": null,
      "grid_area": null,
      "grid_auto_columns": null,
      "grid_auto_flow": null,
      "grid_auto_rows": null,
      "grid_column": null,
      "grid_gap": null,
      "grid_row": null,
      "grid_template_areas": null,
      "grid_template_columns": null,
      "grid_template_rows": null,
      "height": null,
      "justify_content": null,
      "justify_items": null,
      "left": null,
      "margin": null,
      "max_height": null,
      "max_width": null,
      "min_height": null,
      "min_width": null,
      "object_fit": null,
      "object_position": null,
      "order": null,
      "overflow": null,
      "overflow_x": null,
      "overflow_y": null,
      "padding": null,
      "right": null,
      "top": null,
      "visibility": null,
      "width": null
     }
    },
    "d44bba896b67451293cbca91c08d68e7": {
     "model_module": "@jupyter-widgets/base",
     "model_name": "LayoutModel",
     "state": {
      "_model_module": "@jupyter-widgets/base",
      "_model_module_version": "1.2.0",
      "_model_name": "LayoutModel",
      "_view_count": null,
      "_view_module": "@jupyter-widgets/base",
      "_view_module_version": "1.2.0",
      "_view_name": "LayoutView",
      "align_content": null,
      "align_items": null,
      "align_self": null,
      "border": null,
      "bottom": null,
      "display": null,
      "flex": null,
      "flex_flow": null,
      "grid_area": null,
      "grid_auto_columns": null,
      "grid_auto_flow": null,
      "grid_auto_rows": null,
      "grid_column": null,
      "grid_gap": null,
      "grid_row": null,
      "grid_template_areas": null,
      "grid_template_columns": null,
      "grid_template_rows": null,
      "height": null,
      "justify_content": null,
      "justify_items": null,
      "left": null,
      "margin": null,
      "max_height": null,
      "max_width": null,
      "min_height": null,
      "min_width": null,
      "object_fit": null,
      "object_position": null,
      "order": null,
      "overflow": null,
      "overflow_x": null,
      "overflow_y": null,
      "padding": null,
      "right": null,
      "top": null,
      "visibility": null,
      "width": null
     }
    },
    "da77db0a9bb34df08ebcec42d7fdab0c": {
     "model_module": "@jupyter-widgets/controls",
     "model_name": "HBoxModel",
     "state": {
      "_dom_classes": [],
      "_model_module": "@jupyter-widgets/controls",
      "_model_module_version": "1.5.0",
      "_model_name": "HBoxModel",
      "_view_count": null,
      "_view_module": "@jupyter-widgets/controls",
      "_view_module_version": "1.5.0",
      "_view_name": "HBoxView",
      "box_style": "",
      "children": [
       "IPY_MODEL_b4a26eba5821448a8c9627f863fc2df0",
       "IPY_MODEL_61c91a266f74449f85660b95aa5081bc"
      ],
      "layout": "IPY_MODEL_968d7d13fb0a47028e62f89820d133b6"
     }
    },
    "dd418e5e77184891bdb56ccb4e95f179": {
     "model_module": "@jupyter-widgets/base",
     "model_name": "LayoutModel",
     "state": {
      "_model_module": "@jupyter-widgets/base",
      "_model_module_version": "1.2.0",
      "_model_name": "LayoutModel",
      "_view_count": null,
      "_view_module": "@jupyter-widgets/base",
      "_view_module_version": "1.2.0",
      "_view_name": "LayoutView",
      "align_content": null,
      "align_items": null,
      "align_self": null,
      "border": null,
      "bottom": null,
      "display": null,
      "flex": null,
      "flex_flow": null,
      "grid_area": null,
      "grid_auto_columns": null,
      "grid_auto_flow": null,
      "grid_auto_rows": null,
      "grid_column": null,
      "grid_gap": null,
      "grid_row": null,
      "grid_template_areas": null,
      "grid_template_columns": null,
      "grid_template_rows": null,
      "height": null,
      "justify_content": null,
      "justify_items": null,
      "left": null,
      "margin": null,
      "max_height": null,
      "max_width": null,
      "min_height": null,
      "min_width": null,
      "object_fit": null,
      "object_position": null,
      "order": null,
      "overflow": null,
      "overflow_x": null,
      "overflow_y": null,
      "padding": null,
      "right": null,
      "top": null,
      "visibility": null,
      "width": null
     }
    },
    "de21e9cf1e234204b06e841c92b34a92": {
     "model_module": "@jupyter-widgets/controls",
     "model_name": "DescriptionStyleModel",
     "state": {
      "_model_module": "@jupyter-widgets/controls",
      "_model_module_version": "1.5.0",
      "_model_name": "DescriptionStyleModel",
      "_view_count": null,
      "_view_module": "@jupyter-widgets/base",
      "_view_module_version": "1.2.0",
      "_view_name": "StyleView",
      "description_width": ""
     }
    }
   }
  }
 },
 "nbformat": 4,
 "nbformat_minor": 1
}
